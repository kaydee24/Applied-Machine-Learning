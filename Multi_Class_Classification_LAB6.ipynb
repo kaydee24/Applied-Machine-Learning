{
  "nbformat": 4,
  "nbformat_minor": 0,
  "metadata": {
    "colab": {
      "name": "Multi_Class_Classification_LAB6.ipynb",
      "provenance": [],
      "collapsed_sections": []
    },
    "kernelspec": {
      "name": "python3",
      "display_name": "Python 3"
    }
  },
  "cells": [
    {
      "cell_type": "code",
      "metadata": {
        "id": "b_Hka-ooRtG7"
      },
      "source": [
        "##This block is only for access of files using google drive\n",
        "from pydrive.auth import GoogleAuth\n",
        "from pydrive.drive import GoogleDrive\n",
        "from google.colab import auth\n",
        "from oauth2client.client import GoogleCredentials\n",
        "auth.authenticate_user()\n",
        "gauth = GoogleAuth()\n",
        "gauth.credentials = GoogleCredentials.get_application_default()\n",
        "drive = GoogleDrive(gauth)\n",
        "\n",
        "#For accessing any file from google drive, first share it for public access. Copy its id from last part of its address. Then specify the two lines below.\n",
        "downloaded = drive.CreateFile({'id':\"120DXm92IJY_3NNRHpakD-q7jUCerg43E\"})   # replace the id with id of file you want to access\n",
        "downloaded.GetContentFile('Iris.csv')        # replace the file name with your file"
      ],
      "execution_count": null,
      "outputs": []
    },
    {
      "cell_type": "code",
      "metadata": {
        "id": "fShgaARjSukD"
      },
      "source": [
        "from sklearn.linear_model import LogisticRegression\n",
        "import matplotlib.pyplot as plt\n",
        "import pandas as pd\n",
        "import random;\n",
        "import numpy as np;"
      ],
      "execution_count": null,
      "outputs": []
    },
    {
      "cell_type": "code",
      "metadata": {
        "id": "hBsl3HT-Louh",
        "outputId": "19ad0615-0bda-422c-a258-68c11ad20abe",
        "colab": {
          "base_uri": "https://localhost:8080/",
          "height": 419
        }
      },
      "source": [
        "I = pd.read_csv('Iris.csv')\n",
        "I"
      ],
      "execution_count": null,
      "outputs": [
        {
          "output_type": "execute_result",
          "data": {
            "text/html": [
              "<div>\n",
              "<style scoped>\n",
              "    .dataframe tbody tr th:only-of-type {\n",
              "        vertical-align: middle;\n",
              "    }\n",
              "\n",
              "    .dataframe tbody tr th {\n",
              "        vertical-align: top;\n",
              "    }\n",
              "\n",
              "    .dataframe thead th {\n",
              "        text-align: right;\n",
              "    }\n",
              "</style>\n",
              "<table border=\"1\" class=\"dataframe\">\n",
              "  <thead>\n",
              "    <tr style=\"text-align: right;\">\n",
              "      <th></th>\n",
              "      <th>Id</th>\n",
              "      <th>SepalLengthCm</th>\n",
              "      <th>SepalWidthCm</th>\n",
              "      <th>PetalLengthCm</th>\n",
              "      <th>PetalWidthCm</th>\n",
              "      <th>Species</th>\n",
              "    </tr>\n",
              "  </thead>\n",
              "  <tbody>\n",
              "    <tr>\n",
              "      <th>0</th>\n",
              "      <td>1</td>\n",
              "      <td>5.1</td>\n",
              "      <td>3.5</td>\n",
              "      <td>1.4</td>\n",
              "      <td>0.2</td>\n",
              "      <td>Iris-setosa</td>\n",
              "    </tr>\n",
              "    <tr>\n",
              "      <th>1</th>\n",
              "      <td>2</td>\n",
              "      <td>4.9</td>\n",
              "      <td>3.0</td>\n",
              "      <td>1.4</td>\n",
              "      <td>0.2</td>\n",
              "      <td>Iris-setosa</td>\n",
              "    </tr>\n",
              "    <tr>\n",
              "      <th>2</th>\n",
              "      <td>3</td>\n",
              "      <td>4.7</td>\n",
              "      <td>3.2</td>\n",
              "      <td>1.3</td>\n",
              "      <td>0.2</td>\n",
              "      <td>Iris-setosa</td>\n",
              "    </tr>\n",
              "    <tr>\n",
              "      <th>3</th>\n",
              "      <td>4</td>\n",
              "      <td>4.6</td>\n",
              "      <td>3.1</td>\n",
              "      <td>1.5</td>\n",
              "      <td>0.2</td>\n",
              "      <td>Iris-setosa</td>\n",
              "    </tr>\n",
              "    <tr>\n",
              "      <th>4</th>\n",
              "      <td>5</td>\n",
              "      <td>5.0</td>\n",
              "      <td>3.6</td>\n",
              "      <td>1.4</td>\n",
              "      <td>0.2</td>\n",
              "      <td>Iris-setosa</td>\n",
              "    </tr>\n",
              "    <tr>\n",
              "      <th>...</th>\n",
              "      <td>...</td>\n",
              "      <td>...</td>\n",
              "      <td>...</td>\n",
              "      <td>...</td>\n",
              "      <td>...</td>\n",
              "      <td>...</td>\n",
              "    </tr>\n",
              "    <tr>\n",
              "      <th>145</th>\n",
              "      <td>146</td>\n",
              "      <td>6.7</td>\n",
              "      <td>3.0</td>\n",
              "      <td>5.2</td>\n",
              "      <td>2.3</td>\n",
              "      <td>Iris-virginica</td>\n",
              "    </tr>\n",
              "    <tr>\n",
              "      <th>146</th>\n",
              "      <td>147</td>\n",
              "      <td>6.3</td>\n",
              "      <td>2.5</td>\n",
              "      <td>5.0</td>\n",
              "      <td>1.9</td>\n",
              "      <td>Iris-virginica</td>\n",
              "    </tr>\n",
              "    <tr>\n",
              "      <th>147</th>\n",
              "      <td>148</td>\n",
              "      <td>6.5</td>\n",
              "      <td>3.0</td>\n",
              "      <td>5.2</td>\n",
              "      <td>2.0</td>\n",
              "      <td>Iris-virginica</td>\n",
              "    </tr>\n",
              "    <tr>\n",
              "      <th>148</th>\n",
              "      <td>149</td>\n",
              "      <td>6.2</td>\n",
              "      <td>3.4</td>\n",
              "      <td>5.4</td>\n",
              "      <td>2.3</td>\n",
              "      <td>Iris-virginica</td>\n",
              "    </tr>\n",
              "    <tr>\n",
              "      <th>149</th>\n",
              "      <td>150</td>\n",
              "      <td>5.9</td>\n",
              "      <td>3.0</td>\n",
              "      <td>5.1</td>\n",
              "      <td>1.8</td>\n",
              "      <td>Iris-virginica</td>\n",
              "    </tr>\n",
              "  </tbody>\n",
              "</table>\n",
              "<p>150 rows × 6 columns</p>\n",
              "</div>"
            ],
            "text/plain": [
              "      Id  SepalLengthCm  ...  PetalWidthCm         Species\n",
              "0      1            5.1  ...           0.2     Iris-setosa\n",
              "1      2            4.9  ...           0.2     Iris-setosa\n",
              "2      3            4.7  ...           0.2     Iris-setosa\n",
              "3      4            4.6  ...           0.2     Iris-setosa\n",
              "4      5            5.0  ...           0.2     Iris-setosa\n",
              "..   ...            ...  ...           ...             ...\n",
              "145  146            6.7  ...           2.3  Iris-virginica\n",
              "146  147            6.3  ...           1.9  Iris-virginica\n",
              "147  148            6.5  ...           2.0  Iris-virginica\n",
              "148  149            6.2  ...           2.3  Iris-virginica\n",
              "149  150            5.9  ...           1.8  Iris-virginica\n",
              "\n",
              "[150 rows x 6 columns]"
            ]
          },
          "metadata": {
            "tags": []
          },
          "execution_count": 3
        }
      ]
    },
    {
      "cell_type": "markdown",
      "metadata": {
        "id": "vg7A3OB9X6FO"
      },
      "source": [
        "The Iris dataset was used in R.A. Fisher's classic 1936 paper, The Use of Multiple Measurements in Taxonomic Problems, and can also be found on the [UCI Machine Learning Repository](http://archive.ics.uci.edu/ml/datasets/Iris).\n",
        "\n",
        "It includes three iris species with 50 samples each as well as some properties about each flower. One flower species is linearly separable from the other two, but the other two are not linearly separable from each other.\n",
        "\n",
        "The columns in this dataset are:\n",
        "\n",
        "\n",
        "1.   Id\n",
        "2. SepalLengthCm\n",
        "3. SepalWidthCm\n",
        "4. PetalLengthCm\n",
        "5. PetalWidthCm\n",
        "6. Species\n",
        "\n",
        "\n",
        "\n",
        "#Assignment 6 Multi-class classification and K-fold cross-validation (4)\n",
        "\n",
        "1.   Code the Species as 0, 1, 2\n",
        "2.   Shuffle the data\n",
        "3.   Separate it into 10 equal sets\n",
        "4.   Combine 7 sets as training set and 1 set as validation set and 2 sets as test set.\n",
        "5.   Normalize the training set\n",
        "6.   Write a code for multi-class logistic regression\n",
        "7.   Test the performance on the validation set.\n",
        "8.   Repat from step 4 to 7 eight times for all the 8 possible validation sets sets each time with a different validation set.\n",
        "9.   Report the mean and standard deviation of the 8 cross-validation accuracies. Report the accuracy on the test-set. Use decision threshold of 0.5.\n",
        "10. For the three classifiers that you have designed, construct the confusion matrix for 0.5 threshold and the ROC curve by changing the decision threshold from 0 to 1 with a step of 0.1. Which thresholds appear best for the three classifiers?\n"
      ]
    },
    {
      "cell_type": "code",
      "metadata": {
        "id": "KXCR7g-CcY-y",
        "outputId": "1db469ac-c035-4f60-c6cd-33572957c189",
        "colab": {
          "base_uri": "https://localhost:8080/",
          "height": 674
        }
      },
      "source": [
        "#Replace Iris-Setosa by 0, Iris-versicolor as 1 and Iris-verginica as 2\n",
        "for ind in I.index: \n",
        "    if I['Species'][ind] == 'Iris-setosa':\n",
        "        I['Species'][ind] = 0\n",
        "    elif I['Species'][ind] == 'Iris-versicolor':\n",
        "        I['Species'][ind] = 1\n",
        "    elif I['Species'][ind] == 'Iris-virginica':\n",
        "        I['Species'][ind] = 2\n",
        "    else:\n",
        "        raise ValueError(\"More than 3 classes exist in dataset\")\n",
        "I\n"
      ],
      "execution_count": null,
      "outputs": [
        {
          "output_type": "stream",
          "text": [
            "/usr/local/lib/python3.6/dist-packages/ipykernel_launcher.py:3: SettingWithCopyWarning: \n",
            "A value is trying to be set on a copy of a slice from a DataFrame\n",
            "\n",
            "See the caveats in the documentation: http://pandas.pydata.org/pandas-docs/stable/user_guide/indexing.html#returning-a-view-versus-a-copy\n",
            "  This is separate from the ipykernel package so we can avoid doing imports until\n",
            "/usr/local/lib/python3.6/dist-packages/ipykernel_launcher.py:5: SettingWithCopyWarning: \n",
            "A value is trying to be set on a copy of a slice from a DataFrame\n",
            "\n",
            "See the caveats in the documentation: http://pandas.pydata.org/pandas-docs/stable/user_guide/indexing.html#returning-a-view-versus-a-copy\n",
            "  \"\"\"\n",
            "/usr/local/lib/python3.6/dist-packages/ipykernel_launcher.py:7: SettingWithCopyWarning: \n",
            "A value is trying to be set on a copy of a slice from a DataFrame\n",
            "\n",
            "See the caveats in the documentation: http://pandas.pydata.org/pandas-docs/stable/user_guide/indexing.html#returning-a-view-versus-a-copy\n",
            "  import sys\n"
          ],
          "name": "stderr"
        },
        {
          "output_type": "execute_result",
          "data": {
            "text/html": [
              "<div>\n",
              "<style scoped>\n",
              "    .dataframe tbody tr th:only-of-type {\n",
              "        vertical-align: middle;\n",
              "    }\n",
              "\n",
              "    .dataframe tbody tr th {\n",
              "        vertical-align: top;\n",
              "    }\n",
              "\n",
              "    .dataframe thead th {\n",
              "        text-align: right;\n",
              "    }\n",
              "</style>\n",
              "<table border=\"1\" class=\"dataframe\">\n",
              "  <thead>\n",
              "    <tr style=\"text-align: right;\">\n",
              "      <th></th>\n",
              "      <th>Id</th>\n",
              "      <th>SepalLengthCm</th>\n",
              "      <th>SepalWidthCm</th>\n",
              "      <th>PetalLengthCm</th>\n",
              "      <th>PetalWidthCm</th>\n",
              "      <th>Species</th>\n",
              "    </tr>\n",
              "  </thead>\n",
              "  <tbody>\n",
              "    <tr>\n",
              "      <th>0</th>\n",
              "      <td>1</td>\n",
              "      <td>5.1</td>\n",
              "      <td>3.5</td>\n",
              "      <td>1.4</td>\n",
              "      <td>0.2</td>\n",
              "      <td>0</td>\n",
              "    </tr>\n",
              "    <tr>\n",
              "      <th>1</th>\n",
              "      <td>2</td>\n",
              "      <td>4.9</td>\n",
              "      <td>3.0</td>\n",
              "      <td>1.4</td>\n",
              "      <td>0.2</td>\n",
              "      <td>0</td>\n",
              "    </tr>\n",
              "    <tr>\n",
              "      <th>2</th>\n",
              "      <td>3</td>\n",
              "      <td>4.7</td>\n",
              "      <td>3.2</td>\n",
              "      <td>1.3</td>\n",
              "      <td>0.2</td>\n",
              "      <td>0</td>\n",
              "    </tr>\n",
              "    <tr>\n",
              "      <th>3</th>\n",
              "      <td>4</td>\n",
              "      <td>4.6</td>\n",
              "      <td>3.1</td>\n",
              "      <td>1.5</td>\n",
              "      <td>0.2</td>\n",
              "      <td>0</td>\n",
              "    </tr>\n",
              "    <tr>\n",
              "      <th>4</th>\n",
              "      <td>5</td>\n",
              "      <td>5.0</td>\n",
              "      <td>3.6</td>\n",
              "      <td>1.4</td>\n",
              "      <td>0.2</td>\n",
              "      <td>0</td>\n",
              "    </tr>\n",
              "    <tr>\n",
              "      <th>...</th>\n",
              "      <td>...</td>\n",
              "      <td>...</td>\n",
              "      <td>...</td>\n",
              "      <td>...</td>\n",
              "      <td>...</td>\n",
              "      <td>...</td>\n",
              "    </tr>\n",
              "    <tr>\n",
              "      <th>145</th>\n",
              "      <td>146</td>\n",
              "      <td>6.7</td>\n",
              "      <td>3.0</td>\n",
              "      <td>5.2</td>\n",
              "      <td>2.3</td>\n",
              "      <td>2</td>\n",
              "    </tr>\n",
              "    <tr>\n",
              "      <th>146</th>\n",
              "      <td>147</td>\n",
              "      <td>6.3</td>\n",
              "      <td>2.5</td>\n",
              "      <td>5.0</td>\n",
              "      <td>1.9</td>\n",
              "      <td>2</td>\n",
              "    </tr>\n",
              "    <tr>\n",
              "      <th>147</th>\n",
              "      <td>148</td>\n",
              "      <td>6.5</td>\n",
              "      <td>3.0</td>\n",
              "      <td>5.2</td>\n",
              "      <td>2.0</td>\n",
              "      <td>2</td>\n",
              "    </tr>\n",
              "    <tr>\n",
              "      <th>148</th>\n",
              "      <td>149</td>\n",
              "      <td>6.2</td>\n",
              "      <td>3.4</td>\n",
              "      <td>5.4</td>\n",
              "      <td>2.3</td>\n",
              "      <td>2</td>\n",
              "    </tr>\n",
              "    <tr>\n",
              "      <th>149</th>\n",
              "      <td>150</td>\n",
              "      <td>5.9</td>\n",
              "      <td>3.0</td>\n",
              "      <td>5.1</td>\n",
              "      <td>1.8</td>\n",
              "      <td>2</td>\n",
              "    </tr>\n",
              "  </tbody>\n",
              "</table>\n",
              "<p>150 rows × 6 columns</p>\n",
              "</div>"
            ],
            "text/plain": [
              "      Id  SepalLengthCm  SepalWidthCm  PetalLengthCm  PetalWidthCm Species\n",
              "0      1            5.1           3.5            1.4           0.2       0\n",
              "1      2            4.9           3.0            1.4           0.2       0\n",
              "2      3            4.7           3.2            1.3           0.2       0\n",
              "3      4            4.6           3.1            1.5           0.2       0\n",
              "4      5            5.0           3.6            1.4           0.2       0\n",
              "..   ...            ...           ...            ...           ...     ...\n",
              "145  146            6.7           3.0            5.2           2.3       2\n",
              "146  147            6.3           2.5            5.0           1.9       2\n",
              "147  148            6.5           3.0            5.2           2.0       2\n",
              "148  149            6.2           3.4            5.4           2.3       2\n",
              "149  150            5.9           3.0            5.1           1.8       2\n",
              "\n",
              "[150 rows x 6 columns]"
            ]
          },
          "metadata": {
            "tags": []
          },
          "execution_count": 4
        }
      ]
    },
    {
      "cell_type": "code",
      "metadata": {
        "id": "nzt5ULk20DIJ"
      },
      "source": [
        "#Utiltiy Functions\n",
        "def sigmoid(x):\n",
        "  z = 1/(1 + np.exp(-x))\n",
        "  return z;\n",
        "\n",
        "#Converts 1,2,0 matrix to 1,0 matrix for given class_value\n",
        "def create_class_matrix(Y,class_value):\n",
        "    try:\n",
        "        Y = Y.to_numpy()\n",
        "    except:\n",
        "        pass\n",
        "    output = np.zeros((Y.shape[0],1))\n",
        "    for i in range(Y.shape[0]):\n",
        "        if Y[i]==class_value:\n",
        "            output[i] = 1\n",
        "    return output\n",
        "\n",
        "#Utility function \n",
        "def logistic_prediction(X1,W1):\n",
        "    return sigmoid(np.matmul(X1,W1))\n",
        "\n",
        "#Does logistic Regression\n",
        "#http://cse.iitrpr.ac.in/ckn/courses/f2018/csl603/w4.pdf\n",
        "def logistic_regression(X,Y):\n",
        "    ITERATIONS = 30\n",
        "    W = np.random.rand(X.shape[1],1)\n",
        "    N = X.shape[0]\n",
        "    \n",
        "    for iteri in range(1,ITERATIONS+1):\n",
        "        R = np.zeros((N,N))\n",
        "        for i in range(N):\n",
        "            f_x = logistic_prediction(X[i],W)\n",
        "            R[i,i] = f_x*(1-f_x)\n",
        "        H = np.matmul(np.matmul(X.T,R),X)\n",
        "        deltaJ = np.matmul(X.T, (logistic_prediction(X,W) - Y))\n",
        "        try:\n",
        "            W = W - np.matmul(np.linalg.inv(H),deltaJ)\n",
        "        except:\n",
        "             W = W - np.matmul(np.linalg.pinv(H),deltaJ)\n",
        "    return W\n",
        "\n",
        "#Multi Class Prediction for given classifier and datapoint \n",
        "def multi_class_prediction(w0,w1,w2,x):       #W are in order 0 1 2\n",
        "    p0 = logistic_prediction(x,w0)\n",
        "    p1 = logistic_prediction(x,w1)\n",
        "    p2 = logistic_prediction(x,w2)\n",
        "    if p0>p1 and p0>p2:\n",
        "        return 0\n",
        "    if p1>p0 and p1>p2:\n",
        "        return 1\n",
        "    return 2\n",
        "\n",
        "#Single Class Prediction for given classifier and datapoint with threshold\n",
        "def single_class_prediction(w,x,therhold = 0.5):\n",
        "    p = logistic_prediction(x,w)\n",
        "    if p>=therhold:\n",
        "        return 1\n",
        "    else:\n",
        "        return 0\n",
        "\n",
        "#Returns Classifiers: W0,W1,W2\n",
        "def multiClass_logistic_regression(X,Y):\n",
        "    X = X.to_numpy()\n",
        "    X = np.concatenate((np.ones((X.shape[0],1)),X),axis = 1)\n",
        "    Y = Y.to_numpy()\n",
        "    Y0 = create_class_matrix(Y,0)\n",
        "    Y1 = create_class_matrix(Y,1)\n",
        "    Y2 = create_class_matrix(Y,2)\n",
        "    W0 = logistic_regression(X,Y0)\n",
        "    W1 = logistic_regression(X,Y1)\n",
        "    W2 = logistic_regression(X,Y2)\n",
        "    return W0,W1,W2\n",
        "\n",
        "#Calculates Accuracy on given dataset for multi-class classification\n",
        "def calculate_accuracy(X,Y,w0,w1,w2):\n",
        "    X = X.to_numpy()\n",
        "    X = np.concatenate((np.ones((X.shape[0],1)),X),axis = 1)\n",
        "    Y = Y.to_numpy()\n",
        "    N = X.shape[0]\n",
        "    correct = 0.0\n",
        "    for i in range(N):\n",
        "        predicted = multi_class_prediction(w0,w1,w2,X[i])\n",
        "        actual    = Y[i]\n",
        "        if predicted==actual:\n",
        "            correct +=1\n",
        "    return correct/N\n",
        "\n",
        "#Returns Confustion matrix for given classifier on the dataset with threshold\n",
        "def Confusion_matrix(W,X,Y,threshold = 0.5):\n",
        "    try:\n",
        "        X = X.to_numpy()\n",
        "    except:\n",
        "        pass\n",
        "    X = np.concatenate((np.ones((X.shape[0],1)),X),axis = 1)\n",
        "    try:\n",
        "        Y = Y.to_numpy()\n",
        "    except:\n",
        "        pass\n",
        "    tp = 0\n",
        "    fp = 0\n",
        "    fn = 0\n",
        "    tn = 0\n",
        "    N = X.shape[0]\n",
        "    for i in range(N):\n",
        "        predicted_class = single_class_prediction(W,X[i],threshold)\n",
        "        actual_class    = Y[i]\n",
        "        if actual_class == 1 and predicted_class ==1:\n",
        "            tp +=1\n",
        "        if actual_class == 1 and predicted_class ==0:\n",
        "            fn +=1\n",
        "        if actual_class == 0 and predicted_class ==1:\n",
        "            fp +=1\n",
        "        if actual_class == 0 and predicted_class ==0:\n",
        "            tn +=1\n",
        "    return np.asarray([[tp,fn],[fp,tn]])\n",
        "\n",
        "#Returns fpr and tpr\n",
        "def roc_values(W,X,Y,threshold = 0.5):\n",
        "    mat = Confusion_matrix(W,X,Y,threshold)\n",
        "    tpr = float(mat[0,0])/(mat[0,0]+mat[0,1])\n",
        "    fpr = float(mat[1,0])/(mat[1,0]+mat[1,1])\n",
        "    return tpr,fpr"
      ],
      "execution_count": null,
      "outputs": []
    },
    {
      "cell_type": "code",
      "metadata": {
        "id": "9OHtAd1Jpajr",
        "outputId": "471e9c9f-c35b-4367-a8ac-0fcd7fed7b61",
        "colab": {
          "base_uri": "https://localhost:8080/",
          "height": 1000
        }
      },
      "source": [
        "#Shuffle the dataset\n",
        "from sklearn.utils import shuffle\n",
        "I = shuffle(I)\n",
        "\n",
        "X = I[['Id','SepalLengthCm','SepalWidthCm','PetalLengthCm','PetalWidthCm']]\n",
        "Y = I['Species']\n",
        "\n",
        "#Split the dataset in to 10 \n",
        "K = 10\n",
        "import numpy as np\n",
        "X = np.split(X,K)\n",
        "Y = np.split(Y,K)\n",
        "\n",
        "\n",
        "Validation_acc = list()\n",
        "test_acc       = list()\n",
        "\n",
        "for validation_index in range(8):\n",
        "    X_Validation = X[validation_index]\n",
        "    Y_Validation = Y[validation_index]\n",
        "    X_Train = list()\n",
        "    Y_Train = list()\n",
        "    for i in range(10):\n",
        "        if i==validation_index:\n",
        "            continue\n",
        "        X_Train.append(X[i])\n",
        "        Y_Train.append(Y[i])\n",
        "            \n",
        "        \n",
        "    X_Train = pd.concat(X_Train)\n",
        "    Y_Train = pd.concat(Y_Train)\n",
        "    X_Test = pd.concat(X[8:10])\n",
        "    Y_Test = pd.concat(Y[8:10])\n",
        "\n",
        "    #Normalize Train,Validation and Test all columns except ID\n",
        "    mean = np.mean(X_Train[['SepalLengthCm','SepalWidthCm','PetalLengthCm','PetalWidthCm']])\n",
        "    std  = np.std(X_Train[['SepalLengthCm','SepalWidthCm','PetalLengthCm','PetalWidthCm']])\n",
        "    X_Train = (X_Train[['SepalLengthCm','SepalWidthCm','PetalLengthCm','PetalWidthCm']] - mean)/std\n",
        "    X_Test = (X_Test[['SepalLengthCm','SepalWidthCm','PetalLengthCm','PetalWidthCm']] - mean)/std\n",
        "    X_Validation = (X_Validation[['SepalLengthCm','SepalWidthCm','PetalLengthCm','PetalWidthCm']] - mean)/std\n",
        "\n",
        "    #Regressors\n",
        "    W0,W1,W2 = multiClass_logistic_regression(X_Train,Y_Train)\n",
        "\n",
        "    #Accuracy\n",
        "    val_accuracy  = calculate_accuracy(X_Validation,Y_Validation,W0,W1,W2)\n",
        "    test_accuracy = calculate_accuracy(X_Test,Y_Test,W0,W1,W2)\n",
        "    Validation_acc.append(val_accuracy)\n",
        "\n",
        "    #Confustion Matrix Work\n",
        "    Y0 = create_class_matrix(Y_Test,0)\n",
        "    Y1 = create_class_matrix(Y_Test,1)\n",
        "    Y2 = create_class_matrix(Y_Test,2)\n",
        "    print(\"Confusion Matrices--\")\n",
        "    mat0 = Confusion_matrix(W0,X_Test,Y0, 0.5)\n",
        "    mat1 = Confusion_matrix(W1,X_Test,Y1, 0.5)\n",
        "    mat2 = Confusion_matrix(W2,X_Test,Y2, 0.5)\n",
        "    print(mat0)\n",
        "    print(mat1)\n",
        "    print(mat2)\n",
        "    \n",
        "\n",
        "    #ROC work\n",
        "    tpr_w0_list = list()\n",
        "    fpr_w0_list = list()\n",
        "\n",
        "    tpr_w1_list = list()\n",
        "    fpr_w1_list = list()\n",
        "\n",
        "    tpr_w2_list = list()\n",
        "    fpr_w2_list = list()\n",
        "    \n",
        "    for thresh in range(0,11,1):\n",
        "        thresh = float(thresh)/10\n",
        "        tpr_w0,fpr_w0 = roc_values(W0,X_Test,Y0,thresh)\n",
        "        tpr_w1,fpr_w1 = roc_values(W1,X_Test,Y1,thresh)\n",
        "        tpr_w2,fpr_w2 = roc_values(W2,X_Test,Y2,thresh)\n",
        "\n",
        "        tpr_w0_list.append(tpr_w0)\n",
        "        fpr_w0_list.append(fpr_w0)\n",
        "        tpr_w1_list.append(tpr_w1)\n",
        "        fpr_w1_list.append(fpr_w1)\n",
        "        tpr_w2_list.append(tpr_w2)\n",
        "        fpr_w2_list.append(fpr_w2)\n",
        "    \n",
        "    \n",
        "\n",
        "    #ROC Graph Work\n",
        "    plt.clf()\n",
        "    plt.plot(fpr_w0_list,tpr_w0_list,label = 'W0 classifier')\n",
        "    plt.plot(fpr_w1_list,tpr_w1_list,label = 'W1 classifier')\n",
        "    plt.plot(fpr_w2_list,tpr_w2_list,label = 'W2 classifier')\n",
        "    plt.xlabel('False Positive Rate')\n",
        "    plt.ylabel('True Positive Rate')\n",
        "    plt.xlim((0,1))\n",
        "    plt.ylim((0,1))\n",
        "    plt.legend()\n",
        "    plt.show()\n",
        "    print(\"---\")\n",
        "\n",
        "print(\"Validation Accuracies\",Validation_acc, \"Mean acc:\",np.mean(Validation_acc),\"Std deviation:\",np.std(Validation_acc))\n",
        "\n",
        "\n",
        "\n",
        "\n",
        "\n",
        "\n",
        "     \n",
        "\n"
      ],
      "execution_count": null,
      "outputs": [
        {
          "output_type": "stream",
          "text": [
            "/usr/local/lib/python3.6/dist-packages/ipykernel_launcher.py:2: RuntimeWarning: overflow encountered in exp\n",
            "  \n"
          ],
          "name": "stderr"
        },
        {
          "output_type": "stream",
          "text": [
            "Confusion Matrices--\n",
            "[[12  0]\n",
            " [ 0 18]]\n",
            "[[ 1  8]\n",
            " [ 7 14]]\n",
            "[[ 9  0]\n",
            " [ 1 20]]\n"
          ],
          "name": "stdout"
        },
        {
          "output_type": "display_data",
          "data": {
            "image/png": "[encoded data removed]",
            "text/plain": [
              "<Figure size 432x288 with 1 Axes>"
            ]
          },
          "metadata": {
            "tags": []
          }
        },
        {
          "output_type": "stream",
          "text": [
            "---\n"
          ],
          "name": "stdout"
        },
        {
          "output_type": "stream",
          "text": [
            "/usr/local/lib/python3.6/dist-packages/ipykernel_launcher.py:2: RuntimeWarning: overflow encountered in exp\n",
            "  \n"
          ],
          "name": "stderr"
        },
        {
          "output_type": "stream",
          "text": [
            "Confusion Matrices--\n",
            "[[12  0]\n",
            " [ 0 18]]\n",
            "[[ 4  5]\n",
            " [10 11]]\n",
            "[[ 9  0]\n",
            " [ 1 20]]\n"
          ],
          "name": "stdout"
        },
        {
          "output_type": "display_data",
          "data": {
            "image/png": "[encoded data removed]",
            "text/plain": [
              "<Figure size 432x288 with 1 Axes>"
            ]
          },
          "metadata": {
            "tags": []
          }
        },
        {
          "output_type": "stream",
          "text": [
            "---\n"
          ],
          "name": "stdout"
        },
        {
          "output_type": "stream",
          "text": [
            "/usr/local/lib/python3.6/dist-packages/ipykernel_launcher.py:2: RuntimeWarning: overflow encountered in exp\n",
            "  \n"
          ],
          "name": "stderr"
        },
        {
          "output_type": "stream",
          "text": [
            "Confusion Matrices--\n",
            "[[12  0]\n",
            " [ 0 18]]\n",
            "[[ 7  2]\n",
            " [11 10]]\n",
            "[[ 9  0]\n",
            " [ 1 20]]\n"
          ],
          "name": "stdout"
        },
        {
          "output_type": "display_data",
          "data": {
            "image/png": "[encoded data removed]",
            "text/plain": [
              "<Figure size 432x288 with 1 Axes>"
            ]
          },
          "metadata": {
            "tags": []
          }
        },
        {
          "output_type": "stream",
          "text": [
            "---\n"
          ],
          "name": "stdout"
        },
        {
          "output_type": "stream",
          "text": [
            "/usr/local/lib/python3.6/dist-packages/ipykernel_launcher.py:2: RuntimeWarning: overflow encountered in exp\n",
            "  \n"
          ],
          "name": "stderr"
        },
        {
          "output_type": "stream",
          "text": [
            "Confusion Matrices--\n",
            "[[12  0]\n",
            " [ 0 18]]\n",
            "[[ 7  2]\n",
            " [13  8]]\n",
            "[[ 9  0]\n",
            " [ 1 20]]\n"
          ],
          "name": "stdout"
        },
        {
          "output_type": "display_data",
          "data": {
            "image/png": "[encoded data removed]",
            "text/plain": [
              "<Figure size 432x288 with 1 Axes>"
            ]
          },
          "metadata": {
            "tags": []
          }
        },
        {
          "output_type": "stream",
          "text": [
            "---\n",
            "Confusion Matrices--\n",
            "[[12  0]\n",
            " [ 0 18]]\n",
            "[[ 6  3]\n",
            " [ 3 18]]\n",
            "[[ 9  0]\n",
            " [ 1 20]]\n"
          ],
          "name": "stdout"
        },
        {
          "output_type": "display_data",
          "data": {
            "image/png": "[encoded data removed]",
            "text/plain": [
              "<Figure size 432x288 with 1 Axes>"
            ]
          },
          "metadata": {
            "tags": []
          }
        },
        {
          "output_type": "stream",
          "text": [
            "---\n"
          ],
          "name": "stdout"
        },
        {
          "output_type": "stream",
          "text": [
            "/usr/local/lib/python3.6/dist-packages/ipykernel_launcher.py:2: RuntimeWarning: overflow encountered in exp\n",
            "  \n"
          ],
          "name": "stderr"
        },
        {
          "output_type": "stream",
          "text": [
            "Confusion Matrices--\n",
            "[[ 2 10]\n",
            " [ 0 18]]\n",
            "[[ 6  3]\n",
            " [ 2 19]]\n",
            "[[ 9  0]\n",
            " [ 0 21]]\n"
          ],
          "name": "stdout"
        },
        {
          "output_type": "display_data",
          "data": {
            "image/png": "[encoded data removed]",
            "text/plain": [
              "<Figure size 432x288 with 1 Axes>"
            ]
          },
          "metadata": {
            "tags": []
          }
        },
        {
          "output_type": "stream",
          "text": [
            "---\n"
          ],
          "name": "stdout"
        },
        {
          "output_type": "stream",
          "text": [
            "/usr/local/lib/python3.6/dist-packages/ipykernel_launcher.py:2: RuntimeWarning: overflow encountered in exp\n",
            "  \n"
          ],
          "name": "stderr"
        },
        {
          "output_type": "stream",
          "text": [
            "Confusion Matrices--\n",
            "[[12  0]\n",
            " [ 0 18]]\n",
            "[[ 9  0]\n",
            " [11 10]]\n",
            "[[ 9  0]\n",
            " [ 1 20]]\n"
          ],
          "name": "stdout"
        },
        {
          "output_type": "display_data",
          "data": {
            "image/png": "[encoded data removed]",
            "text/plain": [
              "<Figure size 432x288 with 1 Axes>"
            ]
          },
          "metadata": {
            "tags": []
          }
        },
        {
          "output_type": "stream",
          "text": [
            "---\n"
          ],
          "name": "stdout"
        },
        {
          "output_type": "stream",
          "text": [
            "/usr/local/lib/python3.6/dist-packages/ipykernel_launcher.py:2: RuntimeWarning: overflow encountered in exp\n",
            "  \n"
          ],
          "name": "stderr"
        },
        {
          "output_type": "stream",
          "text": [
            "Confusion Matrices--\n",
            "[[12  0]\n",
            " [ 0 18]]\n",
            "[[ 9  0]\n",
            " [ 9 12]]\n",
            "[[ 9  0]\n",
            " [ 1 20]]\n"
          ],
          "name": "stdout"
        },
        {
          "output_type": "display_data",
          "data": {
            "image/png": "[encoded data removed]",
            "text/plain": [
              "<Figure size 432x288 with 1 Axes>"
            ]
          },
          "metadata": {
            "tags": []
          }
        },
        {
          "output_type": "stream",
          "text": [
            "---\n",
            "Validation Accuracies [0.3333333333333333, 0.3333333333333333, 0.6666666666666666, 0.26666666666666666, 0.9333333333333333, 0.8666666666666667, 0.6666666666666666, 0.4666666666666667] Mean acc: 0.5666666666666667 Std deviation: 0.23804761428476168\n"
          ],
          "name": "stdout"
        }
      ]
    },
    {
      "cell_type": "code",
      "metadata": {
        "id": "a-C6pVEbIjp_"
      },
      "source": [
        ""
      ],
      "execution_count": null,
      "outputs": []
    }
  ]
}