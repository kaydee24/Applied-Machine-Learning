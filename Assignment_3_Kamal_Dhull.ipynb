{
  "nbformat": 4,
  "nbformat_minor": 0,
  "metadata": {
    "colab": {
      "name": "Assignment_3_Kamal_Dhull.ipynb",
      "provenance": [],
      "authorship_tag": "ABX9TyOWmSy2cKSnARdDCT1Z/S73",
      "include_colab_link": true
    },
    "kernelspec": {
      "name": "python3",
      "display_name": "Python 3"
    }
  },
  "cells": [
    {
      "cell_type": "markdown",
      "metadata": {
        "id": "view-in-github",
        "colab_type": "text"
      },
      "source": [
        "<a href=\"https://colab.research.google.com/github/kaydee24/Applied-Machine-Learning/blob/master/Assignment_3_Kamal_Dhull.ipynb\" target=\"_parent\"><img src=\"https://colab.research.google.com/assets/colab-badge.svg\" alt=\"Open In Colab\"/></a>"
      ]
    },
    {
      "cell_type": "code",
      "metadata": {
        "id": "mUPrHQzGbnKb",
        "colab_type": "code",
        "colab": {}
      },
      "source": [
        "##This block is only for access of files using google drive\n",
        "from pydrive.auth import GoogleAuth\n",
        "from pydrive.drive import GoogleDrive\n",
        "from google.colab import auth\n",
        "from oauth2client.client import GoogleCredentials\n",
        "auth.authenticate_user()\n",
        "gauth = GoogleAuth()\n",
        "gauth.credentials = GoogleCredentials.get_application_default()\n",
        "drive = GoogleDrive(gauth)\n",
        "\n",
        "#For accessing any file from google drive, first share it for public access. Copy its id from last part of its address. Then specify the two lines below.\n",
        "downloaded = drive.CreateFile({'id':\"NDg5NjM5Nzc2MjRa/a/NTAwMzkzNjk0NTRa\"})   # replace the id with id of file you want to access\n",
        "downloaded.GetContentFile('spam.csv')        # replace the file name with your file"
      ],
      "execution_count": 0,
      "outputs": []
    },
    {
      "cell_type": "code",
      "metadata": {
        "id": "8vWgGN2ObwNX",
        "colab_type": "code",
        "outputId": "b412e1dd-ad3e-4cff-a46f-24cbe0f12a57",
        "colab": {
          "base_uri": "https://localhost:8080/",
          "height": 204
        }
      },
      "source": [
        "import pandas as pd\n",
        "import numpy as np\n",
        "import string\n",
        "\n",
        "#import the data file\n",
        "filename = 'spam.csv' \n",
        "\n",
        "df_sms = pd.read_csv('spam.csv',encoding='latin-1')\n",
        "df_sms.head()"
      ],
      "execution_count": 0,
      "outputs": [
        {
          "output_type": "execute_result",
          "data": {
            "text/html": [
              "<div>\n",
              "<style scoped>\n",
              "    .dataframe tbody tr th:only-of-type {\n",
              "        vertical-align: middle;\n",
              "    }\n",
              "\n",
              "    .dataframe tbody tr th {\n",
              "        vertical-align: top;\n",
              "    }\n",
              "\n",
              "    .dataframe thead th {\n",
              "        text-align: right;\n",
              "    }\n",
              "</style>\n",
              "<table border=\"1\" class=\"dataframe\">\n",
              "  <thead>\n",
              "    <tr style=\"text-align: right;\">\n",
              "      <th></th>\n",
              "      <th>v1</th>\n",
              "      <th>v2</th>\n",
              "      <th>Unnamed: 2</th>\n",
              "      <th>Unnamed: 3</th>\n",
              "      <th>Unnamed: 4</th>\n",
              "    </tr>\n",
              "  </thead>\n",
              "  <tbody>\n",
              "    <tr>\n",
              "      <th>0</th>\n",
              "      <td>ham</td>\n",
              "      <td>Go until jurong point, crazy.. Available only ...</td>\n",
              "      <td>NaN</td>\n",
              "      <td>NaN</td>\n",
              "      <td>NaN</td>\n",
              "    </tr>\n",
              "    <tr>\n",
              "      <th>1</th>\n",
              "      <td>ham</td>\n",
              "      <td>Ok lar... Joking wif u oni...</td>\n",
              "      <td>NaN</td>\n",
              "      <td>NaN</td>\n",
              "      <td>NaN</td>\n",
              "    </tr>\n",
              "    <tr>\n",
              "      <th>2</th>\n",
              "      <td>spam</td>\n",
              "      <td>Free entry in 2 a wkly comp to win FA Cup fina...</td>\n",
              "      <td>NaN</td>\n",
              "      <td>NaN</td>\n",
              "      <td>NaN</td>\n",
              "    </tr>\n",
              "    <tr>\n",
              "      <th>3</th>\n",
              "      <td>ham</td>\n",
              "      <td>U dun say so early hor... U c already then say...</td>\n",
              "      <td>NaN</td>\n",
              "      <td>NaN</td>\n",
              "      <td>NaN</td>\n",
              "    </tr>\n",
              "    <tr>\n",
              "      <th>4</th>\n",
              "      <td>ham</td>\n",
              "      <td>Nah I don't think he goes to usf, he lives aro...</td>\n",
              "      <td>NaN</td>\n",
              "      <td>NaN</td>\n",
              "      <td>NaN</td>\n",
              "    </tr>\n",
              "  </tbody>\n",
              "</table>\n",
              "</div>"
            ],
            "text/plain": [
              "     v1  ... Unnamed: 4\n",
              "0   ham  ...        NaN\n",
              "1   ham  ...        NaN\n",
              "2  spam  ...        NaN\n",
              "3   ham  ...        NaN\n",
              "4   ham  ...        NaN\n",
              "\n",
              "[5 rows x 5 columns]"
            ]
          },
          "metadata": {
            "tags": []
          },
          "execution_count": 3
        }
      ]
    },
    {
      "cell_type": "code",
      "metadata": {
        "id": "UvYQdiWocBZ4",
        "colab_type": "code",
        "outputId": "45ceabb3-90bf-4195-c4c8-3c7abf9712e2",
        "colab": {
          "base_uri": "https://localhost:8080/",
          "height": 204
        }
      },
      "source": [
        "#Remove the unwanted columns\n",
        "df_sms = df_sms.drop([\"Unnamed: 2\", \"Unnamed: 3\", \"Unnamed: 4\"], axis=1)\n",
        "df_sms = df_sms.rename(columns={\"v1\":\"label\", \"v2\":\"sms\"})\n",
        "df_sms.head()"
      ],
      "execution_count": 0,
      "outputs": [
        {
          "output_type": "execute_result",
          "data": {
            "text/html": [
              "<div>\n",
              "<style scoped>\n",
              "    .dataframe tbody tr th:only-of-type {\n",
              "        vertical-align: middle;\n",
              "    }\n",
              "\n",
              "    .dataframe tbody tr th {\n",
              "        vertical-align: top;\n",
              "    }\n",
              "\n",
              "    .dataframe thead th {\n",
              "        text-align: right;\n",
              "    }\n",
              "</style>\n",
              "<table border=\"1\" class=\"dataframe\">\n",
              "  <thead>\n",
              "    <tr style=\"text-align: right;\">\n",
              "      <th></th>\n",
              "      <th>label</th>\n",
              "      <th>sms</th>\n",
              "    </tr>\n",
              "  </thead>\n",
              "  <tbody>\n",
              "    <tr>\n",
              "      <th>0</th>\n",
              "      <td>ham</td>\n",
              "      <td>Go until jurong point, crazy.. Available only ...</td>\n",
              "    </tr>\n",
              "    <tr>\n",
              "      <th>1</th>\n",
              "      <td>ham</td>\n",
              "      <td>Ok lar... Joking wif u oni...</td>\n",
              "    </tr>\n",
              "    <tr>\n",
              "      <th>2</th>\n",
              "      <td>spam</td>\n",
              "      <td>Free entry in 2 a wkly comp to win FA Cup fina...</td>\n",
              "    </tr>\n",
              "    <tr>\n",
              "      <th>3</th>\n",
              "      <td>ham</td>\n",
              "      <td>U dun say so early hor... U c already then say...</td>\n",
              "    </tr>\n",
              "    <tr>\n",
              "      <th>4</th>\n",
              "      <td>ham</td>\n",
              "      <td>Nah I don't think he goes to usf, he lives aro...</td>\n",
              "    </tr>\n",
              "  </tbody>\n",
              "</table>\n",
              "</div>"
            ],
            "text/plain": [
              "  label                                                sms\n",
              "0   ham  Go until jurong point, crazy.. Available only ...\n",
              "1   ham                      Ok lar... Joking wif u oni...\n",
              "2  spam  Free entry in 2 a wkly comp to win FA Cup fina...\n",
              "3   ham  U dun say so early hor... U c already then say...\n",
              "4   ham  Nah I don't think he goes to usf, he lives aro..."
            ]
          },
          "metadata": {
            "tags": []
          },
          "execution_count": 4
        }
      ]
    },
    {
      "cell_type": "code",
      "metadata": {
        "id": "0eUoW_aJcJek",
        "colab_type": "code",
        "outputId": "1f8fe4d2-4b5e-439d-88f0-06efe2a057e0",
        "colab": {
          "base_uri": "https://localhost:8080/",
          "height": 238
        }
      },
      "source": [
        "#Print number of records\n",
        "L = len(df_sms)\n",
        "print(L)\n",
        "#Example of accessing a column in pandas dataframe\n",
        "df_sms.sms"
      ],
      "execution_count": 0,
      "outputs": [
        {
          "output_type": "stream",
          "text": [
            "5572\n"
          ],
          "name": "stdout"
        },
        {
          "output_type": "execute_result",
          "data": {
            "text/plain": [
              "0       Go until jurong point, crazy.. Available only ...\n",
              "1                           Ok lar... Joking wif u oni...\n",
              "2       Free entry in 2 a wkly comp to win FA Cup fina...\n",
              "3       U dun say so early hor... U c already then say...\n",
              "4       Nah I don't think he goes to usf, he lives aro...\n",
              "                              ...                        \n",
              "5567    This is the 2nd time we have tried 2 contact u...\n",
              "5568                Will Ì_ b going to esplanade fr home?\n",
              "5569    Pity, * was in mood for that. So...any other s...\n",
              "5570    The guy did some bitching but I acted like i'd...\n",
              "5571                           Rofl. Its true to its name\n",
              "Name: sms, Length: 5572, dtype: object"
            ]
          },
          "metadata": {
            "tags": []
          },
          "execution_count": 5
        }
      ]
    },
    {
      "cell_type": "code",
      "metadata": {
        "id": "W5KmOecbcM5k",
        "colab_type": "code",
        "colab": {}
      },
      "source": [
        "#Define a Function to convert sms text to Lower case and remove stop words, punctuation and numbers\n",
        "\n",
        "def preprocess_Text(input_Text):\n",
        "  input_Text = input_Text.lower();\n",
        "  stopwords = ['the','what','is','a','an','of', 'that']\n",
        "  querywords = input_Text.split()\n",
        "\n",
        "  resultwords  = [word for word in querywords if word not in stopwords]\n",
        "  result = ' '.join(resultwords)\n",
        "\n",
        "  exclude = set(string.punctuation)\n",
        "  result = ''.join(ch for ch in result if ch not in exclude)\n",
        "\n",
        "  exclude = set('0123456789')\n",
        "  result = ''.join(ch for ch in result if ch not in exclude)\n",
        "\n",
        "  return result;"
      ],
      "execution_count": 0,
      "outputs": []
    },
    {
      "cell_type": "code",
      "metadata": {
        "id": "BbyWWnWFcPcg",
        "colab_type": "code",
        "colab": {}
      },
      "source": [
        "#Preprocess all the sms texts\n",
        "L = len(df_sms)\n",
        "for i in range(0,L-1):\n",
        "  df_sms['sms'][i] = preprocess_Text(df_sms['sms'][i])"
      ],
      "execution_count": 0,
      "outputs": []
    },
    {
      "cell_type": "code",
      "metadata": {
        "id": "I-GXnOTKcR_Z",
        "colab_type": "code",
        "colab": {}
      },
      "source": [
        "#Divide the dataframes into training and and testing set\n",
        "from sklearn.utils import shuffle\n",
        "df_sms = shuffle(df_sms)\n",
        "training_Subset = df_sms.iloc[:round(len(df_sms)*0.9),:]   #90% data into training\n",
        "test_Subset = df_sms.iloc[round(len(df_sms)*0.9):,:]       #10% data into testing\n",
        "spam_Subset = training_Subset.query('label == \"spam\"')\n",
        "ham_Subset = training_Subset.query('label == \"ham\"');"
      ],
      "execution_count": 0,
      "outputs": []
    },
    {
      "cell_type": "code",
      "metadata": {
        "id": "uU07CcvGcV_H",
        "colab_type": "code",
        "colab": {}
      },
      "source": [
        "#combine all text into one large paragraph which shall be used to list unique words\n",
        "L = len(training_Subset);\n",
        "all_Text = \"\"\n",
        "for i in training_Subset.index:\n",
        "  all_Text = all_Text + \" \"+training_Subset['sms'][i];"
      ],
      "execution_count": 0,
      "outputs": []
    },
    {
      "cell_type": "code",
      "metadata": {
        "id": "FXas6MoscYin",
        "colab_type": "code",
        "outputId": "4c08b08a-c82f-43f5-d63e-7be6318f12b6",
        "colab": {
          "base_uri": "https://localhost:8080/",
          "height": 54
        }
      },
      "source": [
        "#make a table with all unique words\n",
        "allWords = all_Text.split()\n",
        "\n",
        "row_Names = [] \n",
        "for i in allWords:\n",
        "      if not i in row_Names:\n",
        "          row_Names.append(i);\n",
        "print(row_Names)"
      ],
      "execution_count": 0,
      "outputs": [
        {
          "output_type": "stream",
          "text": [
            "['k', 'pa', 'had', 'your', 'lunch', 'aha', 'hi', 'its', 'kate', 'how', 'evening', 'i', 'hope', 'can', 'see', 'you', 'tomorrow', 'for', 'bit', 'but', 'have', 'to', 'bloody', 'babyjontet', 'txt', 'back', 'if', 'u', 'xxx', 'anything', 'lor', 'no', 'problem', 'talk', 'later', 'where', 'wuld', 'be', 'without', 'my', 'baby', 'thought', 'alone', 'mite', 'break', 'me', 'and', 'donåõt', 'wanna', 'go', 'crazy', 'everyboy', 'needs', 'his', 'lady', 'xxxxxxxx', 'ok', 'thanks', 've', 'lovely', 'wisheds', 'rock', 'yup', 'next', 'stop', 'urgent', 'this', 'nd', 'attempt', 'contact', 'uu', 'won', 'å£call', 'b', 'tcsbcmwcnxxcallcostppmmobilesvary', 'maxå£', 'hey', 'boys', 'want', 'hot', 'pics', 'sent', 'direct', 'ur', 'phone', 'porn', 'hrs', 'free', 'then', 'just', 'p', 'per', 'day', 'text', 'stopbcm', 'sf', 'wcnxx', 'kkapo', 'kgood', 'movie', 'heygreat', 'dealfarm', 'tour', 'am', 'pm', 'pax', 'deposit', 'by', 'may', 'wonders', 'in', 'world', 'th', 'style', 'smile', 'personality', 'rd', 'nature', 'sms', 'st', 'friendship', 'good', 'morning', 'dear', 'think', 'were', 'going', 'finns', 'now', 'come', 'ill', 'drinkpa', 'doing', 'need', 'srs', 'model', 'pls', 'send', 'it', 'mail', 'id', 'aiyar', 'dun', 'disturb', 'liao', 'thk', 'lots', 'do', 'aft', 'cupboard', 'chachi', 'tried', 'calling', 'unable', 'reach', 'pl', 'give', 'missed', 'cal', 'once', 'c', 'tiz', 'msg', 'kanagu', 'dunno', 'lei', 'he', 'neva', 'say', 'oh', 'half', 'hour', 'much', 'longer', 'syria', 'than', 'canada', 'eh', 'wow', 'must', 'get', 'so', 'more', 'work', 'done', 'us', 'with', 'all', 'extra', 'time', 'grins', 'dont', 'thnk', 'wrong', 'between', 'accept', 'one', 'or', 'begging', 'change', 'number', 'hack', 'chat', 'backdoor', 'entry', 'into', 'rooms', 'at', 'fraction', 'cost', 'reply', 'neo', 'call', 'subscribe', 'dps', 'bcm', 'box', 'ldn', 'im', 'town', 'stupidits', 'not', 'possible', 'are', 'there', 'room', 'cant', 'pick', 'right', 'message', 'babe', 'goes', 'sip', 'cappuccino', 'love', 'kiss', 'from', 'across', 'sea', 'could', 'seen', 'mei', 'didt', 'recognise', 'face', 'kick', 'off', 'new', 'season', 'wks', 'goals', 'news', 'mobile', 'club', 'name', 'eg', 'villa', 'tfp', 'nt', 'goin', 'got', 'somethin', 'on', 'unless', 'they', 'meetin', 'dinner', 'haha', 'wonder', 'who', 'will', 'tis', 'part', 'checking', 'iq', 'cds', 'congratulations', 'awarded', 'å£', 'cd', 'gift', 'vouchers', 'guaranteed', 'freeentry', 'wkly', 'draw', 'xt', 'music', 'tncs', 'wwwldewcomwinppmxage', 'arr', 'birthday', 'today', 'wish', 'him', 'oscar', 'gonna', 'head', 'up', 'usf', 'like', 'fifteen', 'minutes', 'we', 'left', 'already', 'orchard', 'nowadays', 'people', 'notixiquating', 'laxinorficated', 'opportunity', 'bambling', 'entropication', 'ever', 'oblisingately', 'opted', 'books', 'masteriastering', 'amplikater', 'fidalfication', 'very', 'champlaxigating', 'atrocious', 'wotz', 'opinion', 'junna', 'sch', 'fr', 'haf', 'da', 'book', 'home', 'money', 'leh', 'tuition', 'looking', 'empty', 'slots', 'driving', 'lessons', 'isnt', 'decision', 'feeling', 'decide', 'life', 'would', 'simpler', 'less', 'magical', 'sleeping', 'well', 'thinkin', 'about', 'someone', 'drugs', 'creepy', 'wont', 'forgot', 'believe', 'said', 'many', 'things', 'when', 'really', 'wanted', 'was', 'beautiful', 'library', 'sorry', 'help', 'actually', 'fuck', 'that', 'whatever', 'find', 'excuse', 'tampa', 'some', 'point', 'before', 'january', 'though', 'reason', 'team', 'budget', 'available', 'last', 'buy', 'unsold', 'players', 'base', 'rate', 'happy', 'year', 'familymay', 'bring', 'happiness', 'stability', 'tranquility', 'vibrant', 'colourful', 'pay', 'over', 'ltgt', 'yrs', 'too', 'difficult', 'blackberry', 'bold', 'nigeria', 'services', 'inclusive', 'credits', 'goto', 'wwwcomuknet', 'login', 'qxj', 'unsubscribe', 'charge', 'comuk', 'cm', 'ae', 'hav', 'any', 'frnd', 'ashwini', 'college', 'leaving', 'soon', 'little', 'after', 'means', 'door', 'worry', 'big', 'lambu', 'ji', 'vl', 'cometil', 'enjoy', 'batchlor', 'party', 'juz', 'receive', 'looks', 'scrumptious', 'daddy', 'wants', 'eat', 'night', 'long', 'r', 'saying', 'should', 're', 'order', 'slippers', 'cos', 'returning', 'aight', 'hit', 'cash', 'sitting', 'mu', 'waiting', 'everyone', 'out', 'suite', 'take', 'shower', 'goodmorning', 'late', 'ltdecimalgt', 'min', 'list', 'buyers', 'campus', 'atm', 'two', 'enjoying', 'semester', 'care', 'brother', 'karnan', 'car', 'please', 'wait', 'till', 'directly', 'doctor', 'remains', 'bro', 'amongst', 'bros', 'theoretically', 'yeah', 'able', 'stopped', 'ice', 'cream', 'dude', 'haircut', 'breezy', 'perhaps', 'easy', 'account', 'identification', 'uni', 'lol', 'busy', 'something', 'xx', 'week', 'nokia', 'tone', 'mob', 'every', 'txting', 'tell', 'mates', 'wwwgetzedcouk', 'pobox', 'wwq', 'normptone', 'has', 'ended', 'another', 'special', 'way', 'sunny', 'rays', 'leaves', 'worries', 'blue', 'bay', 'gud', 'mrng', 'plane', 'month', 'end', 'even', 'friend', 'priest', 'price', 'claim', 'nah', 'wasnt', 'bad', 'been', 'quite', 'reality', 'check', 'hows', 'did', 'website', 'sound', 'effects', 'gorgeous', 'man', 'kind', 'person', 'brighten', 'perform', 'write', 'paper', 'midnight', 'huh', 'figure', 'watch', 'films', 'andre', 'virgils', 'ssindia', 'series', 'years', 'south', 'african', 'soil', 'afternoon', 'sleep', 'boytoy', 'trying', 'suppose', 'couple', 'different', 'wed', 'together', 'didnt', 'set', 'dates', 'boss', 'went', 'place', 'told', 'fixed', 'cheaper', 'kept', 'telling', 'hoped', 'always', 'regretted', 'getting', 'etc', 'sunshine', 'quiz', 'q', 'win', 'top', 'sony', 'dvd', 'player', 'know', 'which', 'country', 'algarve', 'ansr', 'sptyrone', 'effect', 'irritation', 'ignore', 'housemaid', 'murderer', 'coz', 'murdered', 'as', 'public', 'holiday', 'govtinstituitions', 'closedincluding', 'post', 'officeunderstand', 'ac', 'blind', 'date', 'rodds', 'm', 'aberdeen', 'united', 'kingdom', 'httpimg', 'acwicmbcktzr', 'hide', 'fineabsolutly', 'fine', 'purity', 'smiling', 'reading', 'forwarded', 'messageits', 'seeing', 'evng', 'bath', 'key', 'window', 'anyway', 'tot', 'tshirt', 'shit', 'awake', 'called', 'himthen', 'choose', 'future', 'ni', 'dearslp', 'welltake', 'careswt', 'dreamsmuah', 'hello', 'damn', 'christmas', 'thing', 'decided', 'keep', 'mp', 'doesnt', 'cud', 'ppl', 'gona', 'l', 'buses', 'gon', 'past', 'full', 'still', 'waitin', 'pete', 'x', 'wear', 'jeans', 'make', 'sure', 'loads', 'during', 'nasty', 'cough', 'dry', 'n', 'shot', 'jada', 'kusruthi', 'lovable', 'silent', 'spl', 'character', 'matured', 'stylish', 'simple', 'havent', 'facebook', 'sense', 'foot', 'penis', 'physics', 'a', 'close', 'heart', 'away', 'shattered', 'plz', 'stay', 'texted', 'finished', 'ago', 'showered', 'erything', 'walked', 'doesnåõt', 'show', 'y', 'serious', 'absolutely', 'park', 'only', 'recently', 'started', 'watching', 'office', 'don\\x89û÷t', 'flying', 'monkeys', 'wot', 'certainly', 'mind', 'mine', 'yet', 'elsewhere', 'oredi', 'ceri', 'rebel', 'sweet', 'dreamz', 'buddy', 'ya', 'moro', 'blokes', 'stuff', 'vote', 'caring', 'losers', 'else', 'self', 'also', 'wesley', 'howve', 'fact', 'leave', 'addie', 'school', 'tues', 'tv', 'wearing', 'trust', 'quick', 'bare', 'god', 'picked', 'flower', 'dippeditinadew', 'lovingly', 'touched', 'itwhichturnedinto', 'gifted', 'tomeandsaidthis', 'sarcasm', 'scarcasim', 'her', 'food', 'preferably', 'pap', 'slowly', 'sugar', 'water', 'cancel', 'visit', 'ned', 'toa', 'payoh', 'while', 'return', 'smth', 'wan', 'wat', 'quickly', 'open', 'solve', 'd', 'case', 'found', 'wife', 'police', 'questioned', 'siri', 'murder', 'took', 'cook', 'cooking', 'gardener', 'picking', 'vegetables', 'children', 'play', 'neighbour', 'marriage', 'arrested', 'immediately', 'whos', 'brilliant', 'hair', 'shipped', 'thanx', 'darlinim', 'cool', 'few', 'bday', 'drinks', 'nite', 'morrow', 'soonxxx', 'guys', 'ring', 'polys', 'å£wk', 'put', 'dictionary', 'mode', 'cover', 'screen', 'hand', 'press', 'gently', 'remove', 'interesting', 'boo', 'enjoyin', 'yourjob', 'seemed', 'gettin', 'hunnyhope', 'ure', 'oktake', 'iåõllspeak', 'soonlots', 'loveme', 'xxxx', 'prob', 'horrible', 'bf', 'v', 'hungry', 'she', 'let', 'log', 'clothes', 'jewelry', 'trips', 'here', 'theres', 'comes', 'costumes', 'their', 'yowifes', 'hint', 'landline', 'abta', 'complimentary', 'tenerife', 'await', 'collection', 'sae', 'tcs', 'cwwx', 'ppm', 'enuff', 'space', 'mb', 'nice', 'despite', 'these', 'cramps', 'being', 'girl', 'congrats', 'treat', 'pendingi', 'dayswill', 'thrurespect', 'mother', 'homecheck', 'mails', 'lookin', 'saucy', 'daytime', 'fun', 'wiv', 'busty', 'married', 'woman', 'sort', 'janinexx', 'callså£minmobsmorelkpoboxhpfl', 'urself', 'jacket', 'ah', 'er', 'didn\\x89û÷t', 'plan', '\\x89ûò', 'limping', 'followed', 'aa', 'exhaust', 'hanging', 'guessin', 'aint', 'fat', 'course', 'tease', 'simply', 'posted', 'prey', 'loving', 'devouring', 'unlimited', 'wisdom', 'eyes', 'dreams', 'amp', 'frnds', 'alwys', 'touch', 'class', 'reunion', 'compliments', 'system', 'side', 'hoping', 'enjoyed', 'game', 'yesterday', 'ive', 'fondly', 'bein', 'thot', 'great', 'abiola', 'slaaaaave', 'summon', 'own', 'anymore', 'shopping', 'them', 'raining', 'mah', 'hard', 'bruce', 'fowler', 'moms', 'story', 'hotel', 'dusk', 'puzzles', 'area', 'callsmessagesmissed', 'calls', 'drive', 'coherently', 'twenty', 'gifts', 'throw', 'myself', 'cliff', 'unsubscribed', 'tons', 'sexy', 'babes', 'hunks', 'straight', 'httpgotbabescouk', 'subscriptions', 'restrict', 'eating', 'anythin', 'likes', 'days', 'otside', 'leu', 'maga', 'phones', 'having', 'problems', 'continued', 'support', 'question', 'enter', 'our', 'president', 'ans', 'grab', 'youre', 'sun', 'earth', 'luv', 'cloud', 'river', 'rain', 'meet', 'bec', 'temple', 'na', 'wah', 'lucky', 'save', 'hee', 'infront', 'goodnight', 'ìï', 'contents', 'page', 'first', 'history', 'comfort', 'luxury', 'sold', 'same', 'india', 'onionrs', 'petrolrs', 'beerrs', 'shesil', 'symptoms', 'listening', 'songs', 'beloved', 'angry', 'speak', 'ask', 'other', 'weekend', 'relieved', 'westonzoyland', 'punto', 'woulda', 'worse', 'slow', 'alfie', 'moons', 'song', 'ms', 'charity', 'nokias', 'poly', 'zed', 'profit', 'ready', 'okie', 'fucking', 'hear', 'voice', 'crave', 'enough', 'adore', 'ahmad', 'kisses', 'death', 'note', 'says', 'robs', 'fault', 'avenge', 'chance', 'bluetooth', 'headset', 'adp', 'wifehow', 'knew', 'exactly', 'supposed', 'wake', 'gt', 'spoons', 'okay', 'hourish', 'heat', 'applyed', 'oil', 'natalie', 'f', 'inviting', 'yes', 'wwwsmsacunataliek', 'telly', 'brdget', 'jones', 'xclusiveclubsaisai', 'morow', 'soiree', 'speciale', 'zouk', 'nichols', 'parisfree', 'roses', 'ladies', 'info', 'o', 'join', 'denis', 'mina', 'does', 'until', 'slightly', 'disastrous', 'fav', 'darlings', 'coffee', 'wld', 'todaysundaysunday', 'holidayso', 'currently', 'awaiting', 'collect', 'cps', 'causing', 'outages', 'conserve', 'energy', 'affidavit', 'e', 'twiggs', 'division', 'g', 'courtroom', 'lttimegt', 'double', 'again', 'footie', 'worried', 'blow', 'phil', 'neville', 'prize', 'land', 'line', 'valid', 'ì', 'reaching', 'california', 'weathers', 'sat', 'spending', 'lot', 'quality', 'dayu', 'sister', 'lover', 'best', 'clos', 'lvblefrnd', 'jstfrnd', 'cutefrnd', 'lifpartnr', 'belovd', 'swtheart', 'bstfrnd', 'rply', 'enemy', 'billion', 'classes', 'soo', 'understand', 'asking', 'gym', 'lazy', 'jog', 'drug', 'anythiing', 'keeping', 'distance', 'reckon', 'arrange', 'transport', 'bangbabes', 'service', 'download', 'content', 'wap', 'bangb', 'internetservice', 'menu', '\\x89û', 'tomo', 'lunchtime', 'shall', 'organise', 'basic', 'yoga', 'bugis', 'pilates', 'intro', 'cbe', 'finish', 'forward', 'finally', 'meeting', 'specially', 'selected', 'award', 'lines', 'apply', 'ag', 'promo', 'goal', 'arsenal', 'henry', 'liverpool', 'scores', 'yards', 'pass', 'bergkamp', 'margin', 'mins', 'noe', 'details', 'why', 'de', 'reminder', 'downloaded', 'paid', 'httpdoit', 'mymoby', 'try', 'omg', 'cat', 'worms', 'videophones', 'yours', 'videochat', 'wid', 'java', 'games', 'dload', 'polyph', 'noline', 'rentl', 'euro', 'latest', 'results', 'daily', 'removed', 'tired', 'travel', 'tonight', 'lovly', 'remember', 'beads', 'bout', 'drink', 'tap', 'spile', 'seven', 'pub', 'gas', 'broad', 'canal', 'os', 'ubandu', 'run', 'installing', 'diskyou', 'use', 'copy', 'important', 'files', 'repair', 'shop', 'ft', 'combination', 'kall', 'bestcongrats', 'planning', 'lido', 'ta', 'jobs', 'start', 'working', 'sen', 'uncle', 'finance', 'thats', 'impression', 'timing', 'battery', 'low', 'wen', 'spiritual', 'deep', 'probably', 'earlier', 'stations', 'jus', 'rite', 'laready', 'dog', 'havenåõt', 'lost', 'ui', 'didnåõt', 'intend', 'hurt', 'never', 'felt', 'iwasmarinethatåõs', 'itriedtell', 'urmomi', 'careabout', 'heard', 'rude', 'private', 'cum', 'shagged', 'pix', 'sam', 'wwwapplausestorecom', 'monthlysubscriptionpmsg', 'maxmonth', 'tcsc', 'web', 'age', 'msgs', 'iam', 'addicted', 'msging', 'bcoz', 'friends', 'bslvyl', 'xavier', 'smoke', 'because', 'swt', 'nver', 'persons', 'cozsomtimes', 'those', 'occupy', 'biggest', 'hearts', 'awww', 'dat', 'lonely', 'jason', 'hes', 'around', 'ass', 'kegger', 'opening', 'mca', 'lastest', 'stereophonics', 'marley', 'dizzee', 'racal', 'libertines', 'strokes', 'nookii', 'flirt', 'click', 'themob', 'bookmark', 'family', 'docs', 'appointments', 'shoving', 'ugh', 'couldnt', 'normal', 'body', 'pleased', 'inform', 'application', 'airtel', 'broadband', 'processed', 'successfully', 'installation', 'happen', 'within', 'custom', 'officer', 'discount', 'polyphonic', 'pt', 'txtin', 'ptone', 'hl', 'pleassssssseeeeee', 'tel', 'avent', 'sportsx', 'goodmate', 'sary', 'asusual', 'cheered', 'franyxxxxx', 'usually', 'respond', 'west', 'coast', 'haiz', 'ìïll', 'forever', 'hate', 'single', 'messaged', 'winner', 'valued', 'network', 'customer', 'hvae', 'reward', 'hours', 'aclpm', 'theatre', 'wherever', 'especially', 'since', 'boston', 'personal', 'statement', 'changed', 'realized', 'nyc', 'answerin', 'pretty', 'reasonable', 'sleepy', 'appt', 'bored', 'depressed', 'sittin', 'wind', 'drops', 'scary', 'cheyyamoand', 'further', 'tones', 'replying', 'mix', 'mytonecomenjoy', 'html', 'terms', 'gbpweek', 'mfl', 'yar', 'dis', 'monthly', 'amount', 'terrible', 'months', 'finishing', 'slept', 'timeyou', 'li', 'hai', 'lecturer', 'repeating', 'weeks', 'waste', 'wana', 'lets', 'bx', 'ip', 'wif', 'buying', 'tix', 'lar', 'nope', 'drivin', 'develop', 'photos', 'darlin', 'sentence', 'concentrate', 'educational', 'career', 'rats', 'themes', 'sorts', 'funny', 'better', 'each', 'gives', 'reasons', 'thank', 'shows', 'unredeemed', 's', 'points', 'identifier', 'code', 'expires', 'reverse', 'cheating', 'mathematics', 'uve', 'british', 'hotels', 'nothing', 'dial', 'national', 'swss', 'stubborn', 'hospital', 'mark', 'weak', 'sucker', 'hospitals', 'suckers', 'voicemail', 'sophas', 'secondary', 'schools', 'thinking', 'applying', 'research', 'joke', 'ogunrinde', 'expensive', 'ones', 'panasonic', 'bluetoothhdset', 'motorola', 'doublemins', 'doubletxt', 'orange', 'contract', 'mobileupd', 'optout', 'exhausted', 'train', 'wine', 'pie', 'match', 'em', 'olowoyey', 'uscedu', 'argentina', 'sad', 'secretary', 'everything', 'blessing', 'sh', 'readyall', 'carlos', 'gauge', 'pattys', 'interest', 'added', 'indyarockscom', 'phonebook', 'coming', 'down', 'str', 'ard', 'superb', 'grateful', 'happier', 'esplanade', 'secret', 'admirer', 'ufind', 'rreveal', 'thinks', 'specialcall', 'wondering', 'moment', 'might', 'file', 'yahoo', 'connection', 'sucks', 'format', 'disc', 'internet', 'teasing', 'cashbalance', 'pounds', 'maximize', 'cashin', 'pmsg', 'cc', 'po', 'tcrw', 'released', 'italian', 'cosign', 'option', 'afternon', 'maybe', 'interviews', 'miss', 'passionate', 'email', 'truro', 'ext', 'neshanthtel', 'tog', 'sometimes', 'walls', 'heartsnot', 'safe', 'cares', 'closer', 'goodnoon', 'read', 'exams', 'befor', 'activities', 'swimming', 'pool', 'jacuzzi', 'house', 'aiya', 'discuss', 'rip', 'uterus', 'garage', 'keys', 'arent', 'bookshelf', 'wonderful', 'asked', 'dating', 'guess', 'revealed', 'wu', 'sir', 'umma', 'vava', 'password', 'cashto', 'getstop', 'php', 'rg', 'jx', 'mr', 'sheffield', 'nanny', 'raise', 'phoned', 'disconnected', 'frndship', 'needle', 'clock', 'met', 'evn', 'meetitz', 'seconds', 'bt', 'conected', 't', 'guoyang', 'accenture', 'confirm', 'true', 'wats', 'letter', 'imma', 'definitely', 'restock', 'thanksgiving', 'todays', 'j', 'boxcpm', 'normally', 'lingo', 'making', 'cause', 'harishs', 'rent', 'transfred', 'acnt', 'vodafone', 'numbers', 'ending', 'four', 'digits', 'received', 'matches', 'wun', 'came', 'signing', 'tmr', 'rush', 'nachos', 'eta', 'piss', 'talking', 'realise', 'itnow', 'backwards', 'hamster', 'dead', 'mrt', 'both', 'shoot', 'announcement', 'delivery', 'reschedule', 'ref', 'answer', 'assume', 'company', 'goodenvironment', 'terrific', 'yagoing', 'restaurant', 'railway', 'dayexcept', 'saturday', 'sunday', 'bak', 'itxx', 'whats', 'jokes', 'fees', 'university', 'florida', 'seem', 'holla', 'voda', 'quoting', 'standard', 'rates', 'app', 'morn', 'gb', 'ipod', 'word', 'ibhltd', 'ldnwh', 'pmtmsgrcvd', 'noits', 'ful', 'lyrics', 'laptop', 'weekly', 'comp', 'tc', 'wwwtextcompcom', 'sis', 'catching', 'w', 'velusamy', 'sirs', 'birth', 'bank', 'facilities', 'made', 'taunton', 'planned', 'that\\x89û÷s', 'okday', 'others', 'site', 'badrith', 'chennaii', 'surely', 'usno', 'competition', 'weightloss', 'ebay', 'elama', 'mudyadhu', 'gr', 'handle', 'victoria', 'island', 'traffic', 'plus', 'whens', 'album', 'due', 'offer', 'video', 'anytime', 'rental', 'camcorder', 'short', 'cute', 'weekends', 'spanish', 'rstm', 'sw', 'ss', 'eva', 'feel', 'stupid', 'cam', 'lyricalladief', 'wwwsmsacuhmmross', 'txts', 'calloptoutndx', 'boy', 'father', 'power', 'pleasure', 'pain', 'trouble', 'pours', 'sum', 'hurts', 'becoz', 'loves', 'hottest', 'wet', 'wanting', 'costs', 'textoperator', 'gga', 'missing', 'plenty', 'balance', 'complete', 'landmark', 'bob', 'barry', 'ben', 'luck', 'cleared', 'round', 'birla', 'soft', 'arty', 'collages', 'mo', 'tryin', 'ne', 'roast', 'princess', 'hellodrivbyquit', 'edrunk', 'iff', 'pthis', 'makes', 'senrddnot', 'dancce', 'drum', 'basqihave', 'nhite', 'ros', 'xxxxxxx', 'blakes', 'early', 'staying', 'meant', 'middle', 'thursday', 'corporation', 'outside', 'gap', 'alert', 'job', 'profile', 'seems', 'bpo', 'salad', 'desert', 'beers', 'ringtone', 'uk', 'singles', 'chart', 'sexychat', 'girls', 'chatting', 'cleaning', 'upset', 'priority', 'constantly', 'what', 'mum', 'shun', 'bian', 'glass', 'exhibition', 'repeat', 'instructions', 'road', 'express', 'someonethat', 'seperated\\x8eö´\\x89ó\\x8bû¬ud', 'exam', 'jordan', 'abroad', 'xxsp', 'visionsmscom', 'stopcost', 'jay', 'tyler', 'alright', 'hooked', 'block', 'breaker', 'deluxe', 'features', 'graphics', 'tmobile', 'bbdeluxe', 'challenge', 'freephone', 'putting', 'business', 'pictures', 'most', 'picture', 'violated', 'awesome', 'omw', 'except', 'chick', 'huge', 'boobs', 'bigger', 'created', 'fingers', 'fills', 'gaps', 'holding', 'charges', 'transfer', 'withdraw', 'anyhow', 'chennai', 'settled', 'reference', 'xyour', 'charged', 'arrive', 'address', 'lemme', 'consent', 'forms', 'asleep', 'grl', 'hogolo', 'gold', 'chain', 'kodstini', 'agalla', 'necklace', 'madstini', 'hogli', 'mutai', 'eerulli', 'kodthini', 'kano', 'errors', 'difficulties', 'correction', 'takes', 'child', 'afraid', 'dark', 'become', 'teenager', 'pod', 'std', 'honeybee', 'sweetest', 'laughed', 'waitu', 'havnt', 'moral', 'crack', 'gmgngegn', 'geeee', 'woke', 'bed', 'cuddling', 'i\\x89û÷m', 'polyh', 'ma', 'dey', 'swell', 'yavnt', 'played', 'original', 'either', 'spatula', 'hands', 'poor', 'lmao', 'pump', 'petrol', 'sickness', 'accidant', 'tookplace', 'somewhere', 'ghodbandar', 'moves', 'slovely', 'slip', 'ups', 'shipping', 'usps', 'gets', 'lag', 'bribe', 'nipost', 'unintentionally', 'trains', 'along', 'warning', 'someonone', 'via', 'boxskch', 'noi', 'rumour', 'apartment', 'kkhow', 'kids', 'grasp', 'booty', 'til', 'ish', 'words', 'dismay', 'times', 'xmas', 'iscoming', 'tnc', 'wwwldewcomwinppmxagesubscription', 'lined', 'an', 'decorating', 'messagesome', 'sendername', 'sentdate', 'fullonsmscom', 'request', 'melle', 'oru', 'minnaminunginte', 'nurungu', 'vettam', 'callertune', 'callers', 'tonexs', 'subscription', 'renewed', 'wwwclubzedcouk', 'billing', 'dice', 'art', 'thru', 'idea', 'learn', 'solihull', 'dai', 'resume', 'jamster', 'wallpaper', 'trip', 'tiring', 'starts', 'taking', 'modules', 'concentrating', 'final', 'yr', 'project', 'yo', 'howz', 'rang', 'glorious', 'anniversary', 'finds', 'coaxing', 'images', 'fond', 'souveniers', 'cougarpen', 'oops', 'accordin', 'discussed', 'yest', 'kb', 'lesson', 'attend', 'ull', 'brand', 'behave', 'fundamentals', 'walk', 'machan', 'wil', 'loan', 'purpose', 'homeowners', 'tenants', 'welcome', 'previously', 'refused', 'needing', 'bathroom', 'sup', 'woken', 'shes', 'coping', 'chikku', 'minute', 'btnationalrate', 'exwife', 'fixes', 'spelling', 'completely', 'diff', 'add', 'representative', 'ampm', 'itmail', 'panren', 'paru', 'kaiez', 'gee', 'second', 'sounds', 'beta', 'yan', 'jiu', 'den', 'dessert', 'suntec', 'look', 'borderline', 'initiate', 'worth', 'london', 'okcome', 'granite', 'issues', 'strongbuy', 'explosive', 'members', 'nasdaq', 'symbol', 'cdgt', 'kindly', 'documents', 'submitted', 'stapati', 'wa', 'openin', 'formal', 'tt', 'eatin', 'puttin', 'weighthaha', 'happened', 'cuz', 'ibored', 'don', 'study', 'godtaken', 'teethis', 'paining', 'inside', 'ate', 'spageddies', 'gals', 'laughing', 'buzy', 'drop', 'cards', 'theyll', 'slurp', 'forget', 'realize', 'cannot', 'gn', 'thinked', 'saw', 'egg', 'daplease', 'payasam', 'rinu', 'brings', 'balls', 'incredible', 'truly', 'amazing', 'ofwd', 'ptxt', 'manage', 'plumbers', 'tape', 'wrench', 'borrow', 'dropped', 'cell', 'stairs', 'phews', 'wrks', 'minstand', 'bus', 'auntys', 'cartoon', 'eve', 'church', 'unnecessarily', 'affectionate', 'styles', 'truth', 'guides', 'dorothykiefercom', 'taught', 'ranjith', 'becaus', 'verifying', 'prabu', 'mistake', 'greatness', 'bonus', 'caller', 'boxqu', 'ringing', 'whole', 'houseful', 'screaming', 'brats', 'pulling', 'nok', 'hmmbad', 'newshype', 'plaza', 'studio', 'takenonly', 'bedrm', 'ringtoneking', 'hun', 'comin', 'nitetell', 'ava', 'goodtimeoli', 'melnite', 'ifink', 'sortedbut', 'il', 'explain', 'everythin', 'monlrsx', 'gentleman', 'dignity', 'respect', 'sathya', 'dint', 'situation', 'husband', 'applebees', 'askin', 'dollars', 'shoul', 'hmm', 'bottle', 'amused', 'joking', 'red', 'white', 'unfortunately', 'airport', 'likely', 'mittelschmertz', 'google', 'paracetamol', 'honestly', 'cup', 'tea', 'promptly', 'burnt', 'jon', 'bin', 'spain', 'dinero', 'bill', 'åôrents', 'mayb', 'interested', 'pes', 'tb', 'james', 'under', 'weather', 'coccooning', 'nvm', 'hella', 'mobiles', 'wwwtcbiz', 'gbpmtmsg', 'txtauction', 'knowthis', 'tirunelvai', 'darren', 'ge', 'xy', 'awkward', 'cheers', 'tex', 'mecause', 'werebored', 'okden', 'hunny', 'uin', 'wk', 'satsoundåõs', 'likeyour', 'havin', 'grfun', 'updat', 'countinlots', 'xxxxx', 'ahhh', 'vaguely', 'genus', 'malaria', 'relax', 'gastroenteritis', 'replace', 'loss', 'temp', 'reduce', 'meds', 'vomit', 'limiting', 'illness', 'snow', 'manageable', 'funeral', 'audrey', 'dad', 'notice', 'paying', 'inconsiderate', 'nag', 'yourself', 'however', 'recession', 'hence', 'ahead', 'atyour', 'gonnamissu', 'muchi', 'postcard', 'buttheres', 'aboutas', 'merememberin', 'asthere', 'ofsi', 'breakin', 'yaxx', 'youll', 'computational', 'science', 'push', 'dearer', 'dem', 'meh', 'noon', 'ding', 'fassyole', 'blacko', 'londn', 'taken', 'real', 'valentine', 'tirupur', 'hockey', 'elections', 'shouldn\\x89û÷t', 'eighth', 'monday', 'weve', 'spoken', 'anyways', 'unni', 'rechargerakhesh', 'amy', 'sending', 'access', 'adult', 'parties', 'hmmm', 'imagine', 'youve', 'rub', 'feet', 'alle', 'moneeppolum', 'pole', 'allalo', 'wq', 'norm', 'hr', 'audition', 'wednesday', 'linerental', 'offers', 'calloptoutlf', 'math', 'although', 'armand', 'eventually', 'build', 'tolerance', 'considering', 'smokes', 'fucked', 'hits', 'fair', 'cashbincouk', 'wwwcashbincouk', 'refilled', 'inr', 'keralacircle', 'prepaid', 'rs', 'transaction', 'kr', 'grand', 'prix', 'dodgey', 'expecting', 'recovery', 'collected', 'dough', 'control', 'hop', 'abt', 'muz', 'greetings', 'joy', 'marrow', 'ryder', 'unsoldnow', 'gibbs', 'genius', 'skype', 'dips', 'hiya', 'signal', 'neither', 'unusual', 'itself', 'hugs', 'snogs', 'cry', 'die', 'rose', 'grave', 'training', 'ten', 'shelf', 'skallis', 'odi', 'exact', 'intentions', 'speaking', 'kbut', 'hitteranyway', 'natalja', 'wwwsmsacunat', 'xå£pw', 'eå£nd', 'fix', 'dearly', 'mths', 'update', 'cameravideo', 'minstexts', 'search', 'qet', 'auto', 'correct', 'audiitions', 'relocate', 'habit', 'nan', 'bari', 'hudgi', 'yorge', 'pataistha', 'ertini', 'tough', 'optimistic', 'improve', 'nottel', 'software', 'nojst', 'tat', 'cancer', 'interview', 'meare', 'sts', 'five', 'level', 'record', 'ssi', 'thinl', 'role', 'sachinjust', 'standing', 'abj', 'serving', 'slave', 'chikkuwat', 'gep', 'march', 'freemsg', 'subscribegbpmnth', 'inc', 'stoptxtstop', 'asap', 'boxnqp', 'giving', 'lift', 'knw', 'teluguthts', 'gudk', 'nyt', 'rather', 'cooped', 'men', 'fifa', 'held', 'chinese', 'surfing', 'online', 'store', 'link', 'httpaltocoukwavewaveaspo', 'feb', 'stink', 'old', 'dom', 'roger', 'miles', 'smiles', 'frm', 'letters', 'difference', 'keeps', 'invaders', 'orig', 'arcade', 'console', 'ocoukgames', 'settings', 'purchase', 'japanese', 'proverb', 'none', 'itu', 'indian', 'version', 'itleave', 'kerala', 'strike', 'against', 'ha', 'everywhere', 'tram', 'cousin', 'vic', 'market', 'arestaurant', 'squid', 'dosomething', 'thesmszonecom', 'anonymous', 'masked', 'messagesim', 'theredo', 'potential', 'abuse', 'medical', 'missions', 'completed', 'degree', 'joining', 'hols', 'med', 'stamped', 'envelope', 'bray', 'wicklow', 'eire', 'unsub', 'topicsorry', 'conform', 'king', 'crying', 'building', 'map', 'imprtant', 'tomorw', 'swollen', 'glands', 'throat', 'piggy', 'bet', 'prepare', 'dang', 'mean', 'yay', 'bomb', 'taste', 'fish', 'curry', 'rest', 'bedroom', 'heroi', 'qatar', 'tonite', 'apt', 'opportunitypls', 'ltemailgt', 'mm', 'edison', 'rightly', 'fool', 'questions', 'wise', 'speechless', 'viva', 'gm', 'dialogue', 'reltnship', 'infact', 'germany', 'pence', 'prepayment', 'videopic', 'fones', 'wild', 'hurry', 'prcvd', 'stopstop', 'mystery', 'solved', 'opened', 'batch', 'sweetie', 'buns', 'ym', 'arm', 'teethif', 'asapok', 'secure', 'chill', 'fantasy', 'football', 'sky', 'gamestar', 'active', 'å£k', 'dream', 'scoring', 'register', 'nowsky', 'opt', 'brownie', 'inches', 'textbuddy', 'horny', 'postcode', 'gaytextbuddycom', 'rpl', 'cnl', 'packing', 'broken', 'll', 'eldest', 'england', 'official', 'colour', 'flag', 'yer', 'eng', 'wwx', 'ibh', 'loyalty', 'txtauctiontxt', 'wordstart', 'nowt', 'spend', 'ideal', 'path', 'appear', 'front', 'is', 'paths', 'walking', 'parking', 'collapsed', 'happens', 'pushes', 'edge', 'underdtand', 'often', 'praps', 'goodo', 'auction', 'hgsuitelands', 'rowwjhl', 'costa', 'del', 'sol', 'toclaim', 'stockport', 'skxh', 'costå£pm', 'maxmins', 'movies', 'kfc', 'tuesday', 'meals', 'gravy', 'probs', 'hon', 'doinat', 'youdoing', 'sar', 'rounds', 'todaybut', 'uncles', 'atlanta', 'yeahand', 'newquaysend', 'goneu', 'talkin', 'boutxx', 'broke', 'small', 'bud', 'useful', 'byatch', 'whassup', 'wheres', 'dnt', 'wnt', 'tlk', 'ez', 'move', 'fa', 'tkts', 'questionstd', 'ratetcs', 'overs', 'opposite', 'colours', 'light', 'darker', 'styling', 'mesages', 'saibaba', 'colany', 'anyone', 'otherwise', 'liquor', 'guy', 'flaked', 'hold', 'somebody', 'loko', 'lil', 'fever', 'messages', 'lookatme', 'clip', 'mmsto', 'swimsuit', 'allowed', 'jos', 'oic', 'bathe', 'settle', 'gautham', 'appreciate', 'bagi', 'computer', 'fried', 'essential', 'spares', 'idiot', 'roommates', 'looovvve', 'running', 'hasnt', 'pattern', 'crap', 'workin', 'oso', 'thgt', 'frens', 'booked', 'proze', 'norcorp', 'ltdå£mtmsgrcvd', 'bishan', 'lavender', 'lab', 'continent', 'possibility', 'alter', 'smoked', 'texting', 'hmph', 'baller', 'theyre', 'dramatic', 'closed', 'apparently', 'inch', 'dats', 'dogg', 'searching', 'dayshe', 'talent', 'john', 'strain', 'dime', 'expect', 'practical', 'skyped', 'wit', 'kz', 'sura', 'given', 'ultimatum', 'countin', 'aburo', 'urgnt', 'least', 'wating', 'dearshall', 'tonitebusy', 'streetshall', 'tonitethings', 'okvarunnathu', 'edukkukayee', 'raksha', 'ollubut', 'interflora', 'åòits', 'flowers', 'pound', 'garments', 'si', 'mokka', 'dance', 'ortxt', 'jess', 'galsu', 'nìâte', 'sell', 'drama', 'plsi', 'struggling', 'strange', 'placeno', 'ego', 'invited', 'necessity', 'gowait', 'reppurcussions', 'butt', 'hang', 'starving', 'cooked', 'btw', 'alibi', 'cutting', 'jokin', 'depends', 'ic', 'doors', 'sometime', 'rimac', 'senthil', 'hsbc', 'printing', 'handing', 'tagged', 'count', 'tming', 'tm', 'whenever', 'laughs', 'answers', 'ques', 'suits', 'ashleys', 'including', 'gods', 'wipro', 'aathilove', 'gower', 'mate', 'wales', 'åômorrow', 'åð', 'random', 'near', 'kalainar', 'officethenampet', 'nighters', 'persevered', 'cheap', 'apologise', 'advance', 'vikky', 'yogasana', 'cine', 'steam', 'alrite', 'nic', 'checkin', 'numberso', 'ittb', 'arngd', 'walkin', 'unfortuntly', 'snake', 'bites', 'dancing', 'frnt', 'sayin', 'bite', 'authorise', 'payment', 'totes', 'doc', 'prescribed', 'morphine', 'mom', 'fast', 'goodfine', 'honesty', 'decisions', 'emailed', 'yifeng', 'jesus', 'everybody', 'annoncement', 'detailed', 'redred', 'bloodblood', 'heartheart', 'relation', 'luvs', 'praying', 'marry', 'excellent', 'rileys', 'plans', 'storming', 'phne', 'wt', 'meaning', 'margaret', 'girlfrnd', 'grahmbell', 'invnted', 'telphone', 'moralone', 'nightswe', 'port', 'step', 'liaotoo', 'ex', 'senthilhsbc', 'al', 'moan', 'thin', 'faultal', 'arguments', 'faultfed', 'himso', 'bother', 'thanxxx', 'playing', 'iouri', 'gentle', 'unlike', 'patients', 'turkeys', 'live', 'operator', 'truekdo', 'handset', 'ducking', 'chinchillas', 'prometazine', 'syrup', 'mls', 'feed', 'bestrply', 'testing', 'card', 'gd', 'bathing', 'animal', 'buzz', 'reminding', 'loved', 'naughty', 'adoring', 'thurs', 'fri', 'tom', 'mentionned', 'clear', 'sarcastic', 'maili', 'mailed', 'varma', 'regarding', 'membershiptake', 'careinsha', 'allah', 'freezing', 'windy', 'milk', 'ummmmmaah', 'returns', 'Rofl.', 'Its', 'detailsi', 'youmy', 'islands', 'towards', 'type', 'boye', 'faded', 'glory', 'ralphs', 'fo', 'senor', 'bahamas', 'callfreefone', 'cruise', 'ofå£', 'captain', 'vijaykanth', 'comedy', 'tvhe', 'drunken', 'lo', 'hor', 'street', 'torture', 'parents', 'intrude', 'receiving', 'triple', 'echo', 'shortly', 'gent', 'kothi', 'print', 'marandratha', 'baaaaabe', 'misss', 'youuuuu', 'teach', 'yetunde', 'surprise', 'returned', 'mid', 'period', 'sppok', 'halloween', 'logopic', 'eerie', 'spook', 'scrounge', 'useless', 'musthu', 'information', 'user', 'dayfind', 'onto', 'httpwwwurawinnercom', 'fantastic', 'listed', 'christmassy', 'moon', 'color', 'stars', 'musical', 'warm', 'peaceful', 'mt', 'spree', 'tscs', 'wwwtxtshopcom', 'custcare', 'xpwk', 'fantasies', 'ntt', 'ltd', 'croydon', 'cr', 'wb', '\\x89ûthanks', 'cocksuckers', 'ipads', 'worthless', 'garbage', 'novelty', 'items', 'camera', 'cross', 'ntwk', 'bundle', 'deals', 'avble', 'calloptoutj', 'mf', 'convince', 'tht', 'witot', 'hurting', 'main', 'playerwhy', 'olave', 'mandara', 'trishul', 'anna', 'nagar', 'accidentally', 'brought', 'licks', 'center', 'tootsie', 'pop', 'watts', 'sign', 'pin', 'pic', 'pose', 'comb', 'dryer', 'tariffs', 'stoptxt', 'voucher', 'cro', 'vary', 'favourite', 'mmmmm', 'sooooo', 'mmmm', 'lion', 'happening', 'lindsay', 'sighs', 'bars', 'ptbo', 'heron', 'onedge', 'spoiled', 'jazz', 'hip', 'generally', 'brothas', 'used', 'dumb', 'formclark', 'utter', 'efficient', 'whenwhere', 'jurong', 'la', 'buffet', 'amore', 'weird', 'success', 'sex', 'sexiest', 'dirtiest', 'vijay', 'jaya', 'basically', 'freeringtonereply', 'skint', 'fancied', 'bevieswaz', 'othrs', 'spoon', 'jst', 'watchng', 'planet', 'earthsofa', 'comfey', 'select', 'benefits', 'trained', 'advisors', 'dialling', 'xchat', 'outhave', 'birthdate', 'certificate', 'april', 'publish', 'wishes', 'popped', 'loo', 'helloed', 'wtc', 'far', 'weiyi', 'present', 'hellohow', 'doingwhat', 'moving', 'flat', 'lamp', 'caroline', 'headstart', 'desperate', 'earlierwe', 'rummer', 'anythings', 'doubt', 'que', 'pases', 'un', 'buen', 'tiempo', 'pshewmissing', 'fren', 'stash', 'ran', 'fishrman', 'waited', 'sack', 'stones', 'strtd', 'throwin', 'thm', 'atlast', 'stone', 'diamonds', 'moraldont', 'dahow', 'consider', 'bunkers', 'high', 'matter', 'financial', 'problemi', 'guilty', 'silence', 'revision', 'fran', 'boyf', 'gotta', 'interviw', 'exeter', 'worriedx', 'kkwhy', 'bcums', 'seriously', 'childish', 'showing', 'affection', 'kettoda', 'manda', 'stopsmsppm', 'subscriber', 'entered', 'receipt', 'elvis', 'presleys', 'credit', 'sry', 'dajst', 'nw', 'fear', 'fainting', 'housework', 'cuppa', 'green', 'quote', 'jerry', 'irritates', 'vry', 'fails', 'earn', 'sac', 'score', 'hundredhe', 'batsman', 'station', 'toilet', 'stolen', 'cops', 'fone', 'laugh', 'occasion', 'celebrated', 'reflection', 'values', 'desires', 'affectionsamp', 'traditions', 'ajith', 'film', 'spring', 'sore', 'cheesy', 'frosty', 'snowman', 'ikea', 'spelled', 'caps', 'yelling', 'among', 'mess', 'bullshit', 'listen', 'officewhats', 'mattermsg', 'nowi', 'thnx', 'simulate', 'test', 'readiness', 'objection', 'reached', 'sooner', 'wwwfullonsmscom', 'tomorro', 'yeshere', 'maths', 'chapter', 'askd', 'jap', 'lect', 'avalarr', 'hollalater', 'fights', 'webpage', 'improved', 'dogging', 'msgsp', 'cancelled', 'tacos', 'rajas', 'burrito', 'cozy', 'nightnobody', 'tddnewsletteremccouk', 'thedailydraw', 'helen', 'dozens', 'prizeswith', 'invention', 'flyim', 'alexs', 'donno', 'scorable', 'sipix', 'digital', 'cs', 'mbp', 'warranty', 'på£', 'avatar', 'subtoitles', 'validhrs', 'arun', 'transfr', 'amt', 'opportunityall', 'fastpls', 'prayers', 'dearrakhesh', 'figures', 'piece', 'priscillas', 'bowl', 'tescos', 'gone', 'attractioni', 'meshe', 'thoughtsi', 'hershe', 'dreamlove', 'breath', 'namemy', 'hermy', 'named', 'heri', 'herwill', 'sorrowsi', 'fight', 'craziest', 'herlove', 'proove', 'planeti', 'singing', 'praises', 'chicken', 'makiing', 'sambarlife', 'thenwill', 'lotwill', 'swatch', 'various', 'alls', 'flip', 'upstairs', 'hectic', 'birds', 'fell', 'swoop', 'almost', 'connect', 'sick', 'whom', 'satanic', 'imposter', 'meneed', 'priceso', 'itmay', 'destiny', 'pray', 'records', 'indicate', 'entitled', 'compensation', 'accident', 'stuck', 'row', 'lt', 'freemessage', 'jamsterget', 'frog', 'mad', 'eastenders', 'dot', 'compare', 'herself', 'violet', 'tulip', 'lily', 'wkentp', 'dislikes', 'arguing', 'iåõm', 'vtired', 'doin', 'social', 'inspection', 'nursery', 'spk', 'sn', 'holder', 'pc', 'httpwwwwtlpcouktext', 'yep', 'program', 'slacking', 'total', 'converter', 'possession', 'property', 'mmm', 'texts', 'raglan', 'edward', 'behind', 'cricket', 'ground', 'gimme', 'closeby', 'obviously', 'eggspert', 'potato', 'head\\x89û', 'lose', 'evr', 'acknowledgement', 'astoundingly', 'tactless', 'faggy', 'demand', 'blood', 'oath', 'tbspersolvo', 'chasing', 'sept', 'forå£', 'kath', 'manchester', 'hcl', 'requires', 'freshers', 'processexcellent', 'english', 'neededsalary', 'upto', 'mssuman', 'telephonic', 'fancy', 'samus', 'shoulders', 'welp', 'bothering', 'shore', 'takin', 'deus', 'lifted', 'hopes', 'approaches', 'studying', 'langport', 'oi', 'dr', 'oranges', 'upd', 'freefone', 'stoptx', 'carso', 'crashed', 'cuddled', 'sofa', 'hmv', 'genuine', 'infowwwpercentrealcom', 'merry', 'co', 'asks', 'disconnect', 'callcoz', 'iz', 'terrorist', 'sim', 'itz', 'confirmd', 'verified', 'cnn', 'ibn', 'replied', 'management', 'alsoor', 'include', 'moby', 'quizwin', 'duchess', 'cornwall', 'sp', 'arrow', 'feathery', 'bowa', 'wishing', 'mas', 'secretly', 'fancies', 'dateboxessexcmxn', 'pmin', 'module', 'humanities', 'sem', 'izzit', 'mini', 'cheetos', 'bag', 'ijust', 'talked', 'formallypls', 'prayingwill', 'hppnss', 'tear', 'sorrow', 'forevr', 'goodfriend', 'codexx', 'nap', 'nationwide', 'centre', 'newport', 'liked', 'glad', 'totally', 'disagreeable', 'seat', 'lower', 'pity', 'mood', 'soany', 'suggestions', 'dudette', 'fffff', 'kadeem', 'maaaan', 'june', 'sweetheart', 'biola', 'common', 'ringtones', 'restrictions', 'buddys', 'prevent', 'dehydration', 'fluids', 'convincing', 'tunde', 'lap', 'shut', 'ship', 'cars', 'pongal', 'dentist', 'matthew', 'lux', 'godi', 'youclean', 'bloodsend', 'miracle', 'itplspls', 'hm', 'headache', 'bird', 'purchases', 'magic', 'loose', 'weight', 'joys', 'mandan', 'thts', 'humans', 'natural', 'practice', 'prolly', 'adding', 'zeros', 'savings', 'ku', 'born', 'pouch', 'apologetic', 'fallen', 'actin', 'spoilt', 'caught', 'badly', 'knocking', 'firesare', 'torch', 'buyer', 'melike', 'bb', 'tellmiss', 'hmmmhow', 'foley', 'exciting', 'prizes', 'eye', 'wwwwincouk', 'tessypls', 'favor', 'convey', 'nimyapls', 'shijas', 'it\\x89û÷s', 'pubcafe', 'sit', 'falls', 'through', 'share', 'specific', 'regards', 'jaklin', 'idk', 'resizing', 'srsly', 'yi', 'tho', 'openings', 'upcharge', 'sight', 'remain', 'maintain', 'ends', 'shjas', 'electricity', 'relatives', 'deliver', 'risks', 'kkcongratulation', 'jan', 'whn', 'ofice', 'cn', 'oficegot', 'duffer', 'shirt', 'hubby', 'fiting', 'load', 'abi', 'hwkeep', 'mj', 'alian', 'cha', 'beverage', 'lr', 'vpist', 'detroit', 'ahhhhjust', 'uphad', 'thoso', 'beauty', 'pimples', 'tas', 'oclock', 'bash', 'bookedthe', 'hut', 'waaaat', 'lololo', 'cut', 'failed', 'clash', 'browser', 'surf', 'prefer', 'understood', 'acted', 'upon', 'thx', 'gravity', 'carefully', 'feels', 'heavy', 'appledayno', 'tulsi', 'leafdayno', 'lemondayno', 'milkdayno', 'bone', 'problms', 'litres', 'watrdayno', 'diseases', 'snd', 'ths', 'adventuring', 'argh', 'spotty', 'province', 'sterling', 'problemfree', 'places', 'looked', 'image', 'nuerologist', 'group', 'checkmate', 'chess', 'persian', 'phrase', 'shah', 'maat', 'the', 'sub', 'ryan', 'msn', 'yijuehotmailcom', 'thatll', 'pocy', 'bell', 'earliest', 'ron', 'burgundy', 'captaining', 'boat', 'theory', 'argument', 'wins', 'loses', 'argue', 'forwarding', 'proof', 'shag', 'dointerested', 'sextextukcom', 'xxuk', 'suzy', 'mary', 'jane', 'randy', 'female', 'local', 'netcollex', 'logo', 'names', 'joined', 'mobno', 'adam', 'poboxwwq', 'txtno', 'ads', 'hadya', 'sapna', 'aunty', 'manege', 'yday', 'hogidhechinnu', 'swalpa', 'black', 'agidhane', 'dress', 'panties', 'gnarls', 'barkleys', 'lolnice', 'nigro', 'switch', 'aiyo', 'haven', 'bao', 'sugardad', 'ahgee', 'networks', 'olol', 'printed', 'forum', 'gpu', 'replacement', 'hopefully', 'rhythm', 'establish', 'hearin', 'playng', 'racing', 'yeshe', 'crickiting', 'actual', 'harder', 'nbme', 'flights', 'pizza', 'meat', 'lovers', 'supreme', 'nights', 'uks', 'wildest', 'pmsgrcvdhgsuitelandsrowwjhl', 'punish', 'december', 'mines', 'report', 'bot', 'notes', 'rem', 'againloving', 'bsn', 'advising', 'apo', 'super', 'nr', 'zs', 'pw', 'hostel', 'bits', 'pieces', 'dawhats', 'scared', 'loud', 'chickened', 'woould', 'loverboy', 'law', 'meatballs', 'wlcome', 'eaten', 'faster', 'spoke', 'ideas', 'messenger', 'sha', 'lick', 'youd', 'wouldnt', 'jerk', 'posts', 'helloyou', 'newest', 'åòharry', 'potter', 'phoenix', 'harry', 'readers', 'delivered', 'kallis', 'bat', 'innings', 'pocay', 'wocay', 'promise', 'morrowxxxx', 'blank', 'tablets', 'reaction', 'din', 'logging', 'geoenvironmental', 'implications', 'honey', 'predicte', 'slower', 'maniac', 'tylers', 'minor', 'crisis', 'confuses', 'understanding', 'arpraveesh', 'delicious', 'willing', 'consensus', 'logos', 'wwwtxtcom', 'infotxtcouk', 'wellyou', 'lifeyou', 'convinced', 'thati', 'conversations', 'usget', 'timeyour', 'sensesrespect', 'overemphasiseor', 'givits', 'kanoanyway', 'salary', 'carry', 'paragon', 'entertaining', 'hugh', 'laurie', 'stick', 'indeed', 'elaine', 'confirmed', 'chikkusimple', 'habbahw', 'ringtonefrom', 'httptms', 'widelivecomindex', 'wmlidbaeceffffirsttruejul', 'gained', 'kg', 'tests', 'pressure', 'limits', 'ee', 'poortiyagi', 'odalebeku', 'hanumanji', 'hanuman', 'bajarangabali', 'maruti', 'pavanaputra', 'sankatmochan', 'ramaduth', 'mahaveer', 'janarige', 'ivatte', 'kalisidare', 'olage', 'ondu', 'keluviri', 'maretare', 'inde', 'dodda', 'problum', 'nalli', 'siguviri', 'idu', 'matra', 'neglet', 'lifting', 'flies', 'mth', 'unsoldmike', 'hussey', 'lov', 'nevr', 'unrecognized', 'somone', 'mistakes', 'valuing', 'definitly', 'undrstnd', 'turns', 'stereo', 'mi', 'unknown', 'ja', 'cruisin', 'jenny', 'idc', 'weaseling', 'twice', 'peace', 'blessed', 'wifi', 'blanked', 'explicitly', 'nora', 'santha', 'num', 'corrct', 'dane', 'remind', 'ibiza', 'sk', 'wp', 'puppy', 'noise', 'cartons', 'shelves', 'audrie', 'lousy', 'autocorrect', 'zac', 'stand', 'modelsony', 'ericson', 'der', 'luks', 'modl', 'freak', 'chop', 'dentists', 'clearly', 'httpwwwetlpcoukexpressoffer', 'cannt', 'asa', 'di', 'gave', 'wylie', 'ryans', 'rows', 'minimum', 'action', 'wwwmovietriviatv', 'drove', 'shell', 'bitch', 'grinule', 'greet', 'jack', 'sayask', 'helpful', 'pretend', 'response', 'hypotheticalhuagauahahuagahyuhagga', 'vday', 'shirts', 'bottom', 'naked', 'instead', 'underwear', 'anyplaces', 'forgiveness', 'companion', 'chef', 'listener', 'organizer', 'boyfriend', 'clean', 'sympathetic', 'athletic', 'courageous', 'determined', 'dependable', 'intelligent', 'psychologist', 'pest', 'exterminator', 'psychiatrist', 'healer', 'stylist', 'driver', 'aaniye', 'pudunga', 'venaam', 'apps', 'claire', 'borin', 'callså£minmoremobsemspoboxpowa', 'vivek', 'versus', 'iron', 'woot', 'celebrate', 'stuffing', 'hahahause', 'brain', 'deliveredtomorrow', 'swing', 'dirty', 'fellow', 'panic', 'surrender', 'hui', 'xin', 'lib', 'parentsi', 'uawakefeellikw', 'shitjustfound', 'aletter', 'thatmum', 'gotmarried', 'thnovbehind', 'ourbacks', 'fuckinniceselfish', 'ride', 'bike', 'evenings', 'jsco', 'channel', 'leadership', 'skills', 'strong', 'psychic', 'wquestion', 'enufcredeit', 'tocallshall', 'ileave', 'yor', 'of', 'asthma', 'attack', 'nxt', 'professional', 'sport', 'tiger', 'woods', 'familiar', 'z', 'natuition', 'verify', 'usher', 'britney', 'fml', 'epsilon', 'hillsborough', 'notified', 'marketing', 'chechi', 'wiskey', 'brandy', 'rum', 'gin', 'beer', 'vodka', 'scotch', 'shampain', 'kudiyarasu', 'dhina', 'vaazhthukkal', 'parked', 'sunroof', 'sux', 'howda', 'mathe', 'en', 'samachara', 'inconvenient', 'reassuring', 'noice', 'syllabus', 'splwat', 'whr', 'ru', 'darling', 'plum', 'smacks', 'oooh', 'kkthis', 'kotees', 'mailbox', 'messaging', 'retrieve', 'deary', 'practicing', 'babies', 'retired', 'freemsgfeelin', 'kinda', 'lnly', 'pictxt', 'msgp', 'rcv', 'hlp', 'dayhas', 'valuemorning', 'hopeafternoon', 'faithevening', 'luvnight', 'restwish', 'todaygood', 'hrishi', 'requirements', 'heroes', 'tips', 'wwwtxttowincouk', 'net', 'responding', 'diwali', 'died', 'mountain', 'deer', 'macho', 'uses', 'stops', 'sif', 'partnership', 'lead', 'ultimately', 'tor', 'motive', 'tui', 'achieve', 'korli', 'ahsen', 'thangam', 'prasad', 'receivea', 'kl', 'surly', 'review', 'thasa', 'messed', 'upyeh', 'disturbing', 'smart', 'thousands', 'tattoos', 'gal', 'mc', 'young', 'unbelievable', 'faglord', 'calm', 'reassurance', 'jeremiah', 'owl', 'loosu', 'careless', 'canåõt', 'isnåõt', 'itåõs', 'shite', 'kip', 'excused', 'dinnermsg', 'chikkugoing', 'ticket', 'youwhen', 'divorce', 'barbie', 'kens', 'squishy', 'mwahs', 'varaya', 'elaya', 'youphone', 'athome', 'youwanna', 'naal', 'eruku', 'khelate', 'kintu', 'opponenter', 'dhorte', 'lage', 'rule', 'rajipls', 'favour', 'nimya', 'soc', 'ar', 'shoppin', 'poking', 'everyday', 'yettys', 'hp', 'yf', 'usualiam', 'tank', 'dump', 'heap', 'lowes', 'boring', 'raiden', 'buff', 'anybody', 'themp', 'pubs', 'frankie', 'bennys', 'warner', 'cinema', 'nohe', 'fridayhope', 'alternativehope', 'pages', 'kanowhr', 'membership', 'jackpot', 'wwwdbuknet', 'lccltd', 'ldnwarw', 'colleagues', 'juicy', 'feelin', 'nuther', 'welli', 'journey', 'receipts', 'pendent', 'gay', 'firmware', 'moments', 'salmon', 'data', 'analysis', 'thesis', 'stock', 'tomorrowtoday', 'dubsack', 'nothin', 'hanger', 'bluff', 'star', 'boxskwpppm', 'fetch', 'yun', 'workout', 'fats', 'amanda', 'regard', 'renewing', 'upgrading', 'current', 'subject', 'ts', 'someday', 'smith', 'gayle', 'baaaaaaaabe', 'ias', 'dolls', 'patrick', 'swayze', 'nelson', 'bbs', 'sink', 'paces', 'cage', 'cock', 'surrounded', 'owns', 'cuck', 'extreme', 'privacy', 'knows', 'sic', 'gosri', 'lanka', 'biz', 'spjanuary', 'male', 'sale', 'peak', 'thread', 'okok', 'okthenwhats', 'chloe', 'smashed', 'ptext', 'raping', 'dudes', 'poker', 'callingforgot', 'onam', 'sirjii', 'remembered', 'insurance', 'personmeet', 'insha', 'allahrakhesh', 'tata', 'aig', 'tisscotayseer', 'gs', 'ammo', 'ak', 'goten', 'scammers', 'smartthough', 'regular', 'prem', 'msgsubscription', 'nos', 'beware', 'masters', 'papers', 'andor', 'vomiting', 'bhaskar', 'staff', 'placement', 'amrita', 'messageno', 'responcewhat', 'happend', 'wrk', 'lst', 'foned', 'chuck', 'lik', 'resolution', 'replybe', 'frankgood', 'cabin', 'hell', 'formatting', 'cl', 'ì©', 'ardìä', 'leastwhich', 'wrc', 'rally', 'oz', 'lucozade', 'le', 'packs', 'lucozadecoukwrc', 'itcould', 'mon', 'height', 'confidence', 'aeronautics', 'professors', 'wer', 'calld', 'aeroplane', 'aftr', 'ws', 'students', 'hurried', 'saidif', 'tension', 'innocent', 'terror', 'cruel', 'romantic', 'decent', 'joker', 'usual', 'patty', 'donewant', 'haul', 'contacted', 'poboxldns', 'necessarily', 'respectful', 'usc', 'portal', 'jd', 'accounts', 'executive', 'fakemy', 'reffering', 'uif', 'member', 'credited', 'getiing', 'rsi', 'acc', 'excuses', 'pen', 'beyond', 'biro', 'roommate', 'finishes', 'floppy', 'snappy', 'photo', 'upload', 'poem', 'cheer', 'knackered', 'mrw', 'janx', 'ps', 'dads', 'ahnow', 'wkg', 'wherebtw', 'nus', 'sc', 'specialise', 'wad', 'city', 'dhoni', 'titleso', 'passthey', 'silently', 'ntswt', 'drms', 'expression', 'sentiment', 'rowdy', 'attitude', 'shy', 'attractive', 'irritating', 'sos', 'youcarlos', 'isare', 'vibrate', 'acting', 'painting', 'escape', 'kavalan', 'fuuuuck', 'sleepin', 'wn', 'prsn', 'somtimes', 'saves', 'quiet', 'eveb', 'stretch', 'pussy', 'toopray', 'meremove', 'teeth', 'painful', 'maintaining', 'predicting', 'accumulation', 'vomitin', 'outs', 'attracts', 'kickboxing', 'accommodationvouchers', 'conditions', 'mustprovide', 'judgementali', 'fridays', 'presnts', 'bcz', 'mis', 'jeevithathile', 'irulinae', 'neekunna', 'prakasamanu', 'sneham', 'prakasam', 'ennal', 'prabha', 'mns', 'islove', 'teju', 'callin', 'babesozi', 'culdnt', 'talkbut', 'wannatell', 'wenwecan', 'properly', 'annie', 'bani', 'loans', 'sacrifice', 'process', 'lorgoin', 'lanre', 'fakeyes', 'eckankar', 'rodger', 'burns', 'mentor', 'percent', 'silver', 'spent', 'phasing', 'fourth', 'dimension', 'macha', 'upseti', 'mindsetbelieve', 'uslet', 'begin', 'againcall', 'manky', 'scouse', 'stevelike', 'travelling', 'homewot', 'inmind', 'recreation', 'tops', 'registered', 'olympics', 'farting', 'tight', 'ccpmin', 'backa', 'token', 'youthats', 'likingbe', 'seeno', 'thatdont', 'divert', 'wadebridgei', 'falling', 'force', 'fall', 'smeone', 'wikipediacom', 'meetgreet', 'westlife', 'unbreakable', 'untamed', 'unkempt', 'gei', 'tron', 'dl', 'viveki', 'ba', 'gua', 'faber', 'pierre', 'cardin', 'scratches', 'scream', 'slap', 'dick', 'cafe', 'pickle', 'inpersonation', 'flea', 'forums', 'aunt', 'nike', 'faith', 'possiblehope', 'worklove', 'beautifulmay', 'three', 'christmasmerry', 'aiyah', 'nydc', 'wheellock', 'transfered', 'fwiw', 'afford', 'tells', 'maggi', 'mee', 'timeslil', 'busyi', 'value', 'continue', 'brisk', 'walks', 'schedule', 'lk', 'measure', 'aslamalaikkuminsha', 'tohar', 'beeen', 'muht', 'albi', 'mufti', 'mahfuuzmeaning', 'ridden', 'ey', 'flurries', 'melt', 'eek', 'can\\x89û÷t', 'significant', 'sonyericsson', 'btooth', 'freenokia', 'oroptouthvd', 'pounded', 'gandhipuram', 'turn', 'sed', 'minuts', 'latr', 'caken', 'kidz', 'drinkin', 'brah', 'seventeen', 'hundred', 'ml', 'grr', 'prescription', 'pharmacy', 'ga', 'delay', 'ahwhat', 'machiany', 'yunny', 'okey', 'dokey', 'i\\x89û÷ll', 'sorting', 'turning', 'xxxxxxxxx', 'chile', 'subletting', 'febapril', 'offerthe', 'tctxt', 'pmtmsg', 'constant', 'goigng', 'perfume', 'waxsto', 'friday', 'major', 'guide', 'outta', 'sec', 'crammed', 'ki', 'kvb', 'wedding', 'chapel', 'frontierville', 'pansy', 'living', 'jungle', 'hardly', 'candont', 'scenery', 'kdo', 'daurgent', 'technical', 'tarot', 'yesfrom', 'cheque', 'stoners', 'complain', 'onlybettr', 'bsnl', 'offc', 'everybodys', 'speed', 'coimbatore', 'shame', 'cld', 'careumma', 'nitros', 'crash', 'aunts', 'tarpon', 'springs', 'cedar', 'typical', 'evaporated', 'stealing', 'employers', 'paperwork', 'supervisor', 'thus', 'shouldnt', 'baskets', 'mag', 'we\\x89û÷re', 'gam', 'outstanding', 'curious', 'whether', 'stayin', 'strangersaw', 'dave', 'heåõs', 'sorted', 'nowstill', 'bloke', 'mrur', 'getha', 'woah', 'realising', 'sports', 'fans', 'txtp', 'washob', 'nobbing', 'nickey', 'platt', 'poorly', 'punishment', 'worst', 'brb', 'kill', 'handed', 'celebrations', 'starting', 'wwwldewcom', 'skillgamewinaweek', 'ageppermesssubscription', 'shitstorm', 'attributed', 'alcohol', 'safely', 'weed', 'using', 'spacebucks', 'philosophy', 'valentines', 'paris', 'flight', 'wwwrtfsphostingcom', 'creep', 'medont', 'lm', 'arms', 'cardiff', 'fujitsu', 'lifebook', 'warwick', 'concert', 'tmw', 'canceled', 'ages', 'alex', 'sells', 'mids', 'brison', 'language', 'shld', 'thinkthis', 'dangerous', 'ph', 'vu', 'bcmwcnxx', 'arranging', 'kthen', 'wenever', 'desparate', 'learned', 'fake', 'poop', 'cake', 'quitting', 'leasttimes', 'wudnt', 'drizzling', 'blur', 'flaky', 'parent', 'itsnot', 'childs', 'parentnot', 'unintentional', 'nonetheless', 'grandma', 'parade', 'women', 'discreet', 'instantly', 'bcmsfwcnxx', 'ukmobiledate', 'mgs', 'billed', 'goggles', 'dresser', 'freeday', 'georges', 'jordantxt', 'celeb', 'pocketbabecouk', 'unique', 'august', 'wwwareyouuniquecouk', 'fudge', 'oreos', 'stores', 'sue', 'lapdancer', 'ppmsg', 'result', 'following', 'canteen', 'updatenow', 'minscall', 'calloptoutjq', 'weåõve', 'geva', 'mint', 'uxxxx', 'fyi', 'deal', 'lotta', 'childporn', 'contacts', 'redim', 'blueu', 'purpleu', 'realy', 'pinku', 'orangei', 'lyk', 'greeni', 'yelowi', 'bck', 'blackim', 'jealous', 'browni', 'giv', 'six', 'chances', 'csh', 'pday', 'tsandcs', 'toledo', 'non', 'chocolate', 'sunlight', 'bcozi', 'astrology', 'blame', 'experience', 'blessings', 'lunchyou', 'onlinewhy', 'bought', 'costing', 'offering', 'impossible', 'treats', 'necessary', 'tp', 'ordered', 'wrking', 'gary', 'folks', 'community', 'psms', 'funk', 'tonesu', 'wwwringtonescouk', 'gbp', 'ave', 'summer', 'such', 'worlds', 'dressed', 'oooooh', 'spare', 'gram', 'runs', 'smarter', 'aptitude', 'parachute', 'coins', 'armenia', 'swann', 'howard', 'we\\x89û÷ll', 'gloucesterroad', 'uup', 'prince', 'charming', 'knowyetunde', 'involve', 'imposed', 'leg', 'musta', 'overdid', 'soooo', 'provider', 'ksry', 'sivatats', 'stil', 'tobed', 'å£award', 'splashmobile', 'subscrition', 'arnt', 'pissed', 'xxxxxxxxxxxxxx', 'equally', 'uneventful', 'pesky', 'cyclists', 'legs', 'neck', 'killing', 'amigos', 'burn', 'problematic', 'definite', 'booking', 'wrongly', 'gang', 'western', 'nosh', 'ana', 'tomarrow', 'sathy', 'rto', 'calicut', 'nimbomsons', 'hire', 'hitman', 'fucks', 'sake', 'teaching', 'twelve', 'lecture', 'lb', 'brilliantly', 'slide', 'dedicated', 'dedicate', 'valuable', 'miiiiiiissssssssss', 'hostbased', 'idps', 'linux', 'systems', 'minecraft', 'server', 'sd', 'holy', 'werent', 'kidding', 'starve', 'maneesha', 'satisfied', 'toll', 'alot', 'ithis', 'wwwasjesuscom', 'wrote', 'opinions', 'pple', 'burger', 'kkwhere', 'youhow', 'performed', 'northampton', 'ibm', 'toshiba', 'anywhere', 'hunting', 'yalru', 'lyfu', 'astne', 'innu', 'mundhe', 'lyf', 'ali', 'halla', 'ke', 'bilo', 'marriageprogram', 'edhae', 'ovr', 'chikkuali', 'vargu', 'meow', 'meowd', 'ou', 'allday', 'highest', 'bid', 'maximum', 'bids', 'chastity', 'device', 'beatings', 'lounge', 'loxahatchee', 'tree', 'burning', 'def', 'kkwhen', 'anal', 'bang', 'fromm', 'thatnow', 'nutter', 'cutter', 'ctter', 'cttergg', 'cttargg', 'ctargg', 'ctagg', 'ie', 'intrepid', 'duo', 'genes', 'cold', 'aaooooright', 'glo', 'boltblue', 'mono', 'jamz', 'toxic', 'torrents', 'particularly', 'legal', 'slowing', 'remembrs', 'forgets', 'everytime', 'lshb', 'shitload', 'waqt', 'se', 'pehle', 'naseeb', 'zyada', 'kisi', 'ko', 'kuch', 'nahi', 'miltazindgi', 'wo', 'jo', 'hum', 'sochte', 'zindgi', 'ham', 'jeetey', 'engagement', 'fixd', 'shocking', 'bthmm', 'njan', 'vilikkamt', 'sudn', 'props', 'randomly', 'loyal', 'customers', 'filthy', 'stories', 'nys', 'ohas', 'brum', 'waliking', 'greatest', 'courage', 'bear', 'defeat', 'losing', 'heartgn', 'passes', 'lions', 'lionm', 'lionp', 'cer', 'catch', 'soonc', 'sheets', 'tmrw', 'i\\x89ûªm', 'isn\\x89ûªt', 'selflessness', 'meal', 'dining', 'experiencehttpwwwvouchmecometlpdiningasp', 'advise', 'recent', 'crbt', 'fixedline', 'entertain', 'surprised', 'french', 'fooled', 'fifty', 'soul', 'fire', 'spark', 'flame', 'rawring', 'xoxo', 'board', 'issue', 'overheating', 'reslove', 'inst', 'pending', 'halfth', 'taka', 'siva', 'ree', 'okmail', 'surname', 'clue', 'begins', 'europe', 'bannfwflyppm', 'blessget', 'deari', 'mummy', 'ktv', 'pongaldo', 'chase', 'stated', 'treated', 'splash', 'weeddeficient', 'strongly', 'beg', 'promises', 'creativity', 'stifled', 'goodmorningmy', 'grandfather', 'expiredso', 'deleted', 'greatbye', 'gist', 'anthony', 'flood', 'gran', 'onlyfound', 'afew', 'agocusoon', 'honi', 'elaborating', 'safety', 'aspects', 'dollar', 'you\\x89û÷ll', 'toldshe', 'several', 'fb', 'jaykwon', 'thuglyfe', 'falconerf', 'offense', 'å£s', 'textsweekend', 'callback', 'orno', 'massive', 'involved', 'cakes', 'corect', 'speling', 'cumming', 'subscribed', 'helpline', 'intention', 'visitors', 'choice', 'embarassed', 'abeg', 'sponsors', 'event', 'anetworks', 'allow', 'companies', 'responsible', 'suppliers', 'vldo', 'adsense', 'approved', 'bloomberg', 'httpcareers', 'bloombergcom', 'bar', 'satsgettin', 'lie', 'howre', 'throwing', 'deciding', 'bruv', 'tomocant', 'kkyesterday', 'dock', 'rolled', 'newscaster', 'dabbles', 'flute', 'wheel', 'chikkuil', 'noworriesloanscom', 'todayfrom', 'yoyyooo', 'permissions', 'mac', 'usb', 'flash', 'dereks', 'calloptout', 'knowing', 'accommodation', 'global', 'locations', 'wwwphbcom', 'sbut', 'catches', 'relaxing', 'uncomfortable', 'salon', 'nightsexcellent', 'location', 'breakfast', 'hamper', 'dagood', 'murali', 'misplaced', 'mcat', 'works', 'rcvd', 'hgsuitelandsrowwjhl', 'mobs', 'title', 'breathe', 'titles', 'crazyin', 'sleepingwith', 'finest', 'ymca', 'getzedcouk', 'poboxowwq', 'kickoff', 'informed', 'prestige', 'fireplace', 'icon', 'spontaneously', 'goodevening', 'reg', 'ciao', 'erm', 'theth', 'october', 'mobilesdirect', 'orstoptxt', 'virgin', 'sumfing', 'antelope', 'toplay', 'fieldof', 'selfindependence', 'contention', 'growrandom', 'village', 'colin', 'farrell', 'swat', 'wkend', 'popcornjust', 'msgticketkioskvalid', 'kiosk', 'mre', 'easily', 'conacted', 'youto', 'poboxntf', 'prof', 'passed', 'student', 'enna', 'kalaachutaarama', 'kkare', 'raviyog', 'peripherals', 'bhayandar', 'east', 'lock', 'keypad', 'status', 'frequently', 'flavour', 'flippin', 'niswt', 'drmstake', 'meive', 'gotany', 'draws', 'chikkuk', 'newspapers', 'durham', 'reserved', 'suggestion', 'lands', 'helps', 'forgt', 'previous', 'crucify', 'weighed', 'woohoo', 'tim', 'bollox', 'tol', 'lays', 'juliana', 'casualty', 'stuffmoro', 'includes', 'missy', 'hlday', 'camp', 'amrca', 'serena', 'kkany', 'supply', 'wwwldewcomsubswinppmx', 'downs', 'fletcher', 'watever', 'built', 'lonlines', 'lotz', 'memories', 'miserable', 'aah', 'cuddle', 'lush', 'soup', 'fumbling', 'rightio', 'bright', 'hiwhat', 'wrkin', 'vitamin', 'anybodys', 'tactful', 'tcsbcmwcnxx', 'callcost', 'mobilesvary', 'fastest', 'growing', 'natwest', 'onlydon', 'sez', 'arab', 'evry', 'eshxxxxxxxxxxx', 'yeh', 'numberpls', 'idconvey', 'achanammarakheshqatar', 'craving', 'resubbing', 'firsg', 'subs', 'expired', 'resub', 'monoc', 'monos', 'polyc', 'stream', 'goinbed', 'onlymore', 'checked', 'spaces', 'embassy', 'ywhere', 'dogbreath', 'sounding', 'thatåõs', 'screwd', 'sparkling', 'breaks', 'wwwshortbreaksorguk', 'squeezed', 'bucks', 'pisces', 'aquarius', 'peoples', 'adventure', 'galileo', 'vill', 'parco', 'nb', 'orc', 'onwords', 'mtnl', 'mumbai', 'stress', 'helpp', 'provided', 'tonesyoucouk', 'oral', 'doggy', 'fave', 'position', 'lord', 'ringsreturn', 'nowreply', 'lotr', 'soundtrack', 'stdtxtrate', 'hyde', 'mel', 'opps', 'confused', 'tts', 'infernal', 'affairs', 'sindu', 'girlie', 'lay', 'bimbo', 'ugos', 'supplies', 'tonights', 'nobody', 'recognises', 'tunji', 'queen', 'appreciated', 'semi', 'apart', 'situations', 'loosing', 'netflix', 'matric', 'messageit', 'appy', 'fizz', 'contains', 'greatbhaji', 'cricketer', 'sachin', 'worldvery', 'slob', 'alertfrom', 'jeri', 'stewartsize', 'kbsubject', 'lowcost', 'prescripiton', 'drvgsto', 'å£million', 'pptxnormal', 'wtjy', 'hill', 'monster', 'yijue', 'huiming', 'resend', 'spice', 'broth', 'ramen', 'lucyxx', 'nosy', 'reacting', 'freaked', 'moji', 'saved', 'lives', 'warned', 'sprint', 'miwa', 'jiayin', 'karaoke', 'ssnervous', 'ummmawill', 'inour', 'plural', 'noun', 'ignorant', 'staring', 'ruining', 'brolly', 'franxx', 'kid', 'boost', 'engalnd', 'mia', 'elliot', 'kissing', 'track', 'wallet', 'kitty', 'shaved', 'friendships', 'grow', 'thankyou', 'tiwary', 'rcbbattle', 'kochi', 'youkwhere', 'foward', 'ruin', 'premium', 'gotto', 'comukcm', 'downstem', 'strict', 'teacher', 'teaches', 'conducts', 'propsd', 'gv', 'lv', 'lttrs', 'threw', 'aproach', 'dt', 'truck', 'speeding', 'girld', 'hw', 'shouted', 'thy', 'lived', 'happily', 'gthr', 'drinking', 'evrydy', 'hv', 'msgsd', 'wishlist', 'section', 'nitro', 'requests', 'lorwe', 'steve', 'korean', 'leonas', 'aww', 'nearly', 'deadwell', 'jez', 'todo', 'workand', 'whilltake', 'wwwidewcom', 'skillgame', 'winaweek', 'ppermesssubscription', 'answering', 'guessing', 'jb', 'err', 'disappeared', 'disappointment', 'radiator', 'gender', 'talents', 'horse', 'rice', 'forgive', 'suggest', 'gudnitetcpractice', 'july', 'derek', 'taylor', 'walmart', 'mouse', 'desk', 'wiproyou', 'horniest', 'follow', 'nytecalpmsgp', 'konw', 'waht', 'rael', 'gving', 'yuo', 'exmpel', 'jsut', 'ese', 'tihs', 'evrey', 'splleing', 'wrnog', 'sitll', 'raed', 'wihtuot', 'ayn', 'mitsake', 'sleepsweet', 'wined', 'dined', 'bffs', 'carly', 'hopeing', 'wasn\\x89û÷t', 'sisters', 'castor', 'adewale', 'aka', 'egbon', 'perpetual', 'dd', 'mushy', 'embarrassed', 'xins', 'meets', 'ello', 'tcsstop', 'ignoring', 'chk', 'dict', 'treadmill', 'ad', 'craigslist', 'selling', 'applespairsall', 'malarky', 'sized', 'payback', 'ritten', 'fold', 'laundry', 'staffsciencenusedusgphyhcmkteachingpc', 'chez', 'jules', 'eight', 'volcanoes', 'erupt', 'tsunamis', 'arise', 'hurricanes', 'sway', 'aroundn', 'disasters', 'maps', 'dorm', 'zogtorius', 'iåõve', 'shorts', 'comei', 'deepest', 'darkest', 'nat', 'sorryi', 'unclaimed', 'closingdate', 'claimcode', 'å£pmmorefrommobilebremovedmobypoboxlsyf', 'fuckin', 'commit', 'connections', 'sq', 'arrival', 'prominent', 'cheek', 'trash', 'headin', 'forced', 'slice', 'beneath', 'pale', 'goodnite', 'waking', 'pride', 'grownup', 'stuffwhy', 'ttyl', 'sometme', 'i\\x89û÷ve', 'salt', 'wounds', 'timi', 'clearing', 'pandy', 'technologies', 'todayhe', 'uhhhhrmm', 'dirt', 'floor', 'windows', 'mouth', 'flowing', 'chores', 'exist', 'hail', 'mist', 'dare', 'apologize', 'admit', 'gate', 'charles', 'uh', 'annoying', 'ìll', 'submitting', 'oni', 'petey', 'whereare', 'friendsare', 'thekingshead', 'canlove', 'hooch', 'toaday', 'splat', 'grazed', 'knees', 'stayed', 'recieve', 'teletext', 'pg', 'drpd', 'deeraj', 'deepak', 'sorta', 'blown', 'wishin', 'goods', 'clubmobilescom', 'pwk', 'mk', 'el', 'nino', 'himself', 'dahe', 'daalways', 'thisdon', 'messagepandy', 'mental', 'bw', 'mus', 'upping', 'grams', 'puzzeles', 'taj', 'mahal', 'lesser', 'known', 'facts', 'mumtaz', 'shahjahans', 'wifes', 'shahjahan', 'killed', 'mumtazs', 'arises', 'hari', 'closes', 'shd', 'covers', 'trends', 'pros', 'cons', 'brief', 'description', 'nuclear', 'fusion', 'iter', 'jet', 'bread', 'showr', 'sleepwellamptake', 'stressfull', 'adds', 'needa', 'suprman', 'matrix', 'starwars', 'bxipwe', 'boooo', 'quit', 'ericsson', 'classic', 'nokiap', 'polyp', 'laid', 'rayan', 'macleran', 'joanna', 'anti', 'shits', 'attached', 'wknd', 'mobsicom', 'coco', 'mallika', 'sherawat', 'lturlgt', 'prizeto', 'actor', 'unemployed', 'papa', 'passable', 'phd', 'easier', 'vegas', 'stays', 'virgins', 'fil', 'sexual', 'theirs', 'å£p', 'threats', 'sales', 'shifad', 'raised', 'complaint', 'commercial', 'hasbroin', 'jump', 'hoops', 'activate', 'ooh', 'belly', 'moseley', 'weds', 'cthen', 'conclusion', 'references', 'favorite', 'oyster', 'sashimi', 'stomach', 'rumbling', 'jumpers', 'hat', 'belt', 'cribbs', 'videos', 'smsshsexnetun', 'fgkslpopw', 'fgkslpo', 'portege', 'witin', 'wherres', 'sitter', 'kaitlyn', 'comprehensive', 'stchoicecouk', 'temales', 'chitchat', 'logon', 'zf', 'durban', 'doinghow', 'iphone', 'tamilnaduthen', 'leads', 'missin', 'sarasota', 'range', 'interfued', 'owe', 'wesleys', 'function', 'lip', 'synced', 'shangela', 'hen', 'alive', 'easter', 'deduct', 'gurl', 'appropriate', 'crucial', 'someones', 'eurodisinc', 'trav', 'acoentry', 'å£morefrmmob', 'shracomorsglsuplt', 'ls', 'aj', 'thout', 'biolas', 'fne', 'vai', 'kay', 'advice', 'bowls', 'coveragd', 'vasai', 'santa', 'breathing', 'secured', 'unsecured', 'fortune', 'adjustable', 'cooperative', 'allows', 'ecstasy', 'savamob', 'ringtoneget', 'freesend', 'subpoly', 'weekstop', 'visa', 'gucci', 'bags', 'bills', 'msgwe', 'shortcode', 'refundedthis', 'southern', 'smsing', 'kilos', 'juan', 'presents', 'nicky', 'ehrr', 'dependents', 'setting', 'filling', 'kkits', 'goodwhen', 'wining', 'swashbuckling', 'gprs', 'upgrade', 'thfebtcs', 'tantrums', 'robinson', 'grinder', 'diesel', 'quarter', 'avoiding', 'burden', 'sthis', 'increase', 'winning', 'copied', 'kills', 'entrepreneurs', 'china', 'asia', 'citylink', 'jackson', 'rec', 'sunoco', 'recharged', 'andrewsboy', 'hiphop', 'dled', 'imp', 'ingredients', 'entirely', 'ho', 'endowed', 'delete', 'tag', 'messy', 'bras', 'strewn', 'pillows', 'tke', 'sfirst', 'timedhoni', 'rocks', 'nowonion', 'phony', 'pleasant', 'statements', 'hmmmy', 'spiffing', 'workage', 'belive', 'godnot', 'madam', 'stillmaybe', 'sameso', 'itor', 'admiti', 'madthen', 'correctionor', 'lifeand', 'worldmay', 'runninglets', 'feelingwavering', 'individualtime', 'heal', 'andros', 'afterwards', 'agent', 'goodies', 'mat', 'belongs', 'herwho', 'fated', 'shoranur', 'incident', 'fuelled', 'concern', 'prior', 'grief', 'violence', 'dealers', 'impatient', 'waitshould', 'ayo', 'travelled', 'forgotten', 'salam', 'wahleykkumsharing', 'newsby', 'grace', 'tayseertissco', 'joinedhope', 'fineinshah', 'allahmeet', 'sometimerakheshvisitor', 'rupaul', 'tool', 'lodge', 'jolly', 'tickets', 'shorter', 'gaze', 'hides', 'secrets', 'sorryin', 'tallahassee', 'prompts', 'careful', 'youåõre', 'sonathaya', 'soladha', 'jokethet', 'skinny', 'lineyou', 'casting', 'air', 'iraq', 'afghanistan', 'stable', 'honest', 'traveling', 'virtual', 'hug', 'tooo', 'partners', 'method', 'calculation', 'dine', 'weigh', 'freemsgfav', 'tonesreply', 'invite', 'subscribers', 'hassling', 'andres', 'haughaighgtujhyguj', 'furniture', 'locks', 'jenne', 'banks', 'lighters', 'kkim', 'finewhen', 'yummy', 'lips', 'table', 'lou', 'lancaster', 'neway', 'couldnåõt', 'båõday', 'shijutta', 'successful', 'calloptoutfq', 'sonot', 'conveying', 'meanwhile', 'samantha', 'jays', 'guitar', 'impress', 'doug', 'realizes', 'changes', 'appendix', 'wnevr', 'fal', 'vth', 'fals', 'yen', 'madodu', 'nav', 'pretsorginta', 'nammanna', 'pretsovru', 'alwa', 'taxi', 'bless', 'somewhr', 'perfect', 'crushes', 'nordstrom', 'helens', 'princes', 'julianaland', 'oblivious', 'ear', 'upsetits', 'dawns', 'refreshed', 'chikkudb', 'barely', 'sane', 'fighting', 'helping', 'sing', 'hu', 'citizen', 'navigate', 'choosing', 'require', 'guidance', 'polo', 'wj', 'american', 'sends', 'emotion', 'dsnt', 'wordsevry', 'prayrs', 'smiled', 'uothrwise', 'uso', 'wwwcom', 'breather', 'granted', 'fulfil', 'poo', 'rebtel', 'firefox', 'display', 'sufficient', 'daal', 'above', 'banned', 'complacent', 'shhhhh', 'shoes', 'keng', 'rocking', 'ashes', 'diet', 'slices', 'obedient', 'erutupalam', 'thandiyachu', 'coolmob', 'frogaxel', 'akonlonely', 'eyeddont', 'appeal', 'thriller', 'director', 'chinatown', 'porridge', 'claypot', 'yam', 'fishhead', 'beehoon', 'tok', 'therere', 'lambda', 'grumble', 'poboxntfp', 'dearregret', 'cudnt', 'calldrove', 'ctla', 'cochin', 'homeleft', 'carente', 'ishtamayoohappy', 'bakrid', 'chad', 'gymnastics', 'christians', 'godyou', 'immed', 'chic', 'declare', 'nowadayslot', 'showroomscity', 'shaping', 'resuming', 'reapply', 'dracula', 'ghost', 'addamsfa', 'munsters', 'exorcist', 'twilight', 'inever', 'processnetworking', 'field', 'datingi', 'radio', 'coincidence', 'ew', 'prin', 'evaluation', 'rct', 'thnq', 'adrian', 'rgds', 'vatian', 'tai', 'feng', 'reservations', 'dust', 'scrappy', 'convenience', 'mornin', 'thanku', 'å£month', 'sweater', 'mango', 'size', 'ploughing', 'pile', 'ironing', 'chinky', 'wasnåõt', 'spouse', 'pmt', 'sumthin', 'shldxxxx', 'atten', 'yellow', 'purse', 'poboxwtgp', 'decades', 'goverment', 'expects', 'africa', 'avin', 'chillin', 'foreign', 'stamps', 'winppmxage', 'buzzzz', 'chest', 'vibrator', 'shake', 'wwwsmsconet', 'å£pm', 'approx', 'postponed', 'stocked', 'jontin', 'shuhui', 'asus', 'reformat', 'answered', 'gudnite', 'protect', 'ethreats', 'sib', 'sensitive', 'passwordsatmsms', 'apeshit', 'alivebetter', 'ams', 'mandy', 'sullivan', 'hotmix', 'fmyou', 'chosen', 'drawplease', 'telephone', 'transferred', 'frying', 'pan', 'silly', 'isn\\x89û÷t', 'quiteamuzing', 'thatåõscool', 'kappa', 'gf', 'baig', 'watches', 'veggie', 'westshore', 'breeze', 'fresh', 'twittering', 'skip', 'pull', 'compass', 'worldgnun', 'waysmscom', 'blimey', 'exercise', 'gopalettan', 'participate', 'admin', 'arrived', 'wereare', 'nalla', 'adi', 'entey', 'nattil', 'kittum', 'marking', 'carlosll', 'roles', 'outreach', 'hiding', 'stranger', 'gbpsms', 'outbid', 'simonwatson', 'shinco', 'plyr', 'acsmsrewards', 'notifications', 'wi', 'nz', 'freeringtone', 'pushbutton', 'dontcha', 'babygoodbye', 'golddigger', 'webeburnin', 'kit', 'strip', 'ig', 'oja', 'sooo', 'priya', 'ima', 'expert', 'tightly', 'heading', 'prediction', 'brother\\x89û÷s', 'scraped', 'barrel', 'misfits', 'fredericksburg', 'nicenicehow', 'meim', 'hicts', 'employee', 'arithmetic', 'percentages', 'accessible', 'å£week', 'url', 'spell', 'stuffs', 'epi', 'bull', 'floating', 'partner', 'lifetime', 'lucy', 'meetins', 'cumin', 'sinco', 'payee', 'icicibankcom', 'urn', 'frauds', 'disclose', 'placed', 'themobhit', 'pink', 'panther', 'sugababes', 'zebra', 'animation', 'badass', 'hoody', 'wallpaperall', 'hittng', 'reflex', 'geeeee', 'audreys', 'ccna', 'ambrithmaduraimet', 'dha', 'marrgeremembr', 'screamed', 'related', 'trade', 'arul', 'ambitious', 'nudist', 'themed', 'rob', 'mack', 'theater', 'rgent', 'ngage', 'deck', 'wwwcnupdatescomnewsletter', 'alerts', 'premier', 'hardcore', 'chrgdp', 'exit', 'easiest', 'barcelona', 'gokila', 'concerned', 'housewives', 'btnational', 'landlines', 'largest', 'eca', 'pmsgp', 'february', 'hustle', 'forth', 'moved', 'harlem', 'garden', 'selection', 'bulbs', 'seeds', 'scotsman', 'notxtcouk', 'loveable', 'eternal', 'noble', 'truthful', 'intimate', 'enamous', 'nearby', 'cliffs', 'oreo', 'truffles', 'itlet', 'nothis', 'groundamla', 'approaching', 'sankranti', 'republic', 'shivratri', 'ugadi', 'fools', 'independence', 'friendshipmotherfatherteacherschildrens', 'ganesh', 'festival', 'dasara', 'mornings', 'afternoons', 'rememberi', 'theseyours', 'raj', 'banneduk', 'progress', 'velly', 'nearer', 'sterm', 'resolved', 'fab', 'freaking', 'myspace', 'logged', 'bringing', 'collecting', 'configure', 'picsfree', 'vid', 'keyword', 'playin', 'puts', 'perspective', 'restocked', 'ow', 'deyi', 'thousadi', 'steyn', 'wicket', 'billy', 'jogging', 'chillaxin', 'ninish', 'icky', 'freek', 'jen', 'tmorrowpls', 'accomodate', 'surgical', 'emergency', 'unfolds', 'concentration', 'alreadysabarish', 'worrying', 'quizzes', 'popcorn', 'nooooooo', 'cable', 'outage', 'christ', 'haunt', 'promoting', 'hex', 'shock', 'leona', 'outif', 'greece', 'tau', 'piah', 'approve', 'panalambut', 'specialisation', 'labor', 'shakara', 'beggar', 'passport', 'nobut', 'sliding', 'somewhat', 'laden', 'fill', 'wrecked', 'thmarch', 'availa', 'hii', 'ahthe', 'ubi', 'tomorrowcall', 'ireneere', 'cresubi', 'tech', 'parkph', 'daysì¬n', 'xuhui', 'thatd', 'scenario', 'convincingjust', 'neglect', 'itjust', 'sticky', 'cutest', 'urgh', 'coach', 'smells', 'chip', 'duvet', 'predictive', 'posible', 'century', 'frwd', 'friendofafriend', 'referin', 'meis', 'rich', 'liaoso', 'onwards', 'ola', 'invest', 'restuwud', 'reliant', 'appointment', 'creative', 'package', 'urination', 'mega', 'asda', 'counts', 'celebration', 'length', 'fringe', 'distract', 'ache', 'grown', 'describe', 'tee', 'cheery', 'bye', 'abbey', 'httpwwwetlpcoukreward', 'install', 'browse', 'artists', 'qi', 'suddenly', 'jod', 'keris', 'smidgin', 'collegexx', 'nange', 'bakra', 'kalstiyathen', 'teacoffee', 'bristol', 'les', 'rudi', 'snoringthey', 'drunk', 'ink', 'ovulatewhen', 'fret', 'multimedia', 'okies', 'blah', 'knickers', 'nikiyunet', 'invoices', 'royal', 'unconscious', 'adults', 'abnormally', 'bluray', 'mxy', 'hava', 'kkadvance', 'taxt', 'massagetiepos', 'lool', 'propose', 'seing', 'funky', 'faceasssssholeeee', 'officially', 'performance', 'calculated', 'monthnot', 'bmw', 'urgentlyits', 'urgentbut', 'shortage', 'lacsthere', 'source', 'arng', 'lacsthats', 'wtf', 'basketball', 'outdoors', 'claims', 'dept', 'escalator', 'lacking', 'particular', 'dramastorms', 'ohi', 'hahatake', 'lp', 'å£msg', 'yeesh', 'everyones', 'babysitting', 'nonenowhere', 'ikno', 'doesdiscountshitinnit', 'honeydid', 'gimmi', 'gossx', 'cheat', 'fatty', 'skilgme', 'tscswinawkage', 'å£perwksub', 'ooooooh', 'yoville', 'indians', 'swiss', 'directors', 'lac', 'crore', 'deposited', 'taxless', 'delhi', 'lane', 'roads', 'suply', 'projects', 'imf', 'blocked', 'politicians', 'rights', 'corrupt', 'itna', 'karo', 'pura', 'padhegm', 'dismissial', 'drastic', 'dual', 'uworld', 'qbank', 'assessment', 'comingdown', 'dearme', 'cherthalain', 'bfore', 'starti', 'accordinglyor', 'comingtmorow', 'engaged', 'worc', 'foregate', 'shrub', 'rubber', 'clarify', 'preponed', 'wewa', 'iriver', 'soz', 'imat', 'mums', 'lovin', 'chief', 'snatch', 'therell', 'shindig', 'auctionpunj', 'sculpture', 'lmaonice', 'belligerent', 'diddy', 'neighbor', 'toothpaste', 'summers', 'matched', 'lateso', 'morningtake', 'dreamsu', 'meummifyingbye', 'itboth', 'upnot', 'fit', 'muchxxlove', 'locaxx', 'excited', 'bbdthts', 'dvg', 'coldheard', 'vinobanagar', 'conditionand', 'uncountable', 'peach', 'tasts', 'canary', 'cantdo', 'anythingtomorrow', 'myparents', 'aretaking', 'outfor', 'katexxx', 'youi', 'minus', 'paragraphs', 'prospects', 'superior', 'wordnot', 'merely', 'relationshipits', 'wherevr', 'whenevr', 'gudnyt', 'meaningless', 'avo', 'deartake', 'prices', 'av', 'oneta', 'mondaynxt', 'completing', 'yupz', 'hook', 'callsppm', 'wwwsantacallingcom', 'ela', 'kanoil', 'sections', 'clearer', 'multiply', 'independently', 'decimal', 'showed', 'inner', 'tigress', 'recorded', 'stands', 'nitz', 'ahold', 'recd', 'vat', 'survey', 'wamma', 'laidwant', 'doggin', 'dogs', 'nownyt', 'smoking', 'nofew', 'beforewent', 'ami', 'parchi', 'kicchu', 'kaaj', 'korte', 'iccha', 'korche', 'tul', 'talks', 'envy', 'sees', 'vewy', 'lubly', 'knock', 'whose', 'wwwtklscom', 'stoptxtstopå£week', 'scratching', 'attending', 'someplace', 'stressful', 'sweets', 'tahan', 'anot', 'txtjourney', 'gdnow', 'clever', 'pears', 'weirdo', 'telugu', 'moviewat', 'selfish', 'ripped', 'wwwclubmobycom', 'polytruepixringtonesgames', 'downloads', 'dizzamn', 'suitemates', 'becz', 'undrstndng', 'avoids', 'suffer', 'hangin', 'makin', 'gek', 'forgiven', 'nannys', 'com', 'suffering', 'dysentry', 'tadaaaaa', 'general', 'ifwhenhow', 'resent', 'error', 'queries', 'customersqueriesnetvisionukcom', 'poboxtcrw', 'dose', 'tablet', 'rewarding', 'jolt', 'hallaq', 'owned', 'possessive', 'rugby', 'dawhere', 'somerset', 'jia', 'mnths', 'sporadically', 'bc', 'rayman', 'golf', 'activ', 'termsapply', 'das', 'iknow', 'wellda', 'peril', 'studentfinancial', 'crisisspk', 'erotic', 'ecstacy', 'prasanth', 'ettans', 'hitechnical', 'supportproviding', 'assistance', 'kkfrom', 'bunch', 'lotto', 'ipad', 'flirting', 'zoe', 'keen', 'palm', 'mummys', 'positive', 'negative', 'hmmmm', 'yck', 'walkabout', 'perumbavoor', 'åè', 'evey', 'mnth', 'sundayish', 'calloptouthf', 'brin', 'sheet', 'route', 'hostile', 'accordingly', 'werethe', 'monkeespeople', 'monkeyaround', 'howdy', 'reserves', 'wildlife', 'wantcome', 'thatworzels', 'wizzle', 'starshine', 'sips', 'officestill', 'formsdon', 'shaking', 'apnt', 'liver', 'managed', 'wirenet', 'stterms', 'uz', 'mobcudb', 'wwwgambtv', 'boxwrc', 'archive', 'north', 'carolina', 'texas', 'gre', 'wasted', 'misbehaved', 'healthy', 'twinks', 'bears', 'scallies', 'skins', 'jocks', 'watchin', 'wwwbiz', 'vip', 'blu', 'november', 'costå£max', 'emerging', 'fiendmake', 'muchimpede', 'hesitant', 'giggle', 'possibly', 'persondie', 'nvq', 'uv', 'causes', 'mutations', 'sunscreen', 'thesedays', 'dan', 'reminded', 'supports', 'srt', 'coughing', 'pleasured', 'popping', 'ibuprofens', 'renewal', 'recpt', 'recharge', 'doctors', 'reminds', 'godid', 'salespee', 'complementary', 'px', 'sender', 'hol', 'justify', 'invitation', 'cali', 'weddin', 'dado', 'rofl', 'betta', 'aging', 'products', 'blankets', 'textpod', 'wwwtextpodnet', 'offline', 'anjolas', 'importantly', 'ing', 'gwr', 'timings', 'printer', 'groovy', 'groovying', 'accomodations', 'cave', 'offered', 'embarassing', 'exposed', 'cherish', 'pei', 'clarification', 'iåõd', 'stage', 'vco', 'reserve', 'thirunelvali', 'tirunelvali', 'evei', 'netno', 'availablei', 'tackle', 'cab', 'availablethey', 'steps', 'wright', 'fly', 'suffers', 'fetching', 'league', 'reveal', 'cust', 'browsin', 'compulsory', 'nottingham', 'mph', 'mila', 'blonde', 'mtalk', 'pptxt', 'increments', 'computerless', 'kafter', 'yuou', 'spot', 'cried', 'posting', 'chennaibecause', 'muhommad', 'penny', 'perf', 'cutie', 'hills', 'abstract', 'lengths', 'behalf', 'stunning', 'mro', 'aathiwhere', 'semiobscure', 'nauseous', 'pig', 'dieting', 'plm', 'thangamits', 'spunout', 'wrld', 'burial', 'mojibiola', 'rv', 'roadsrvx', 'flow', 'developed', 'ovarian', 'cysts', 'shrink', 'hearing', 'blowing', 'mention', 'served', 'retard', 'gain', 'wifedont', 'iti', 'toolets', 'ffffuuuuuuu', 'younger', 'nobodys', 'denying', 'hunonbus', 'donyt', 'homebut', 'latelyxxx', 'checkup', 'smear', 'gossip', 'surya', 'pokkiri', 'honeymoon', 'outfit', 'bridge', 'lager', 'noncomittal', 'cmon', 'replies', 'oga', 'medicine', 'handsome', 'finding', 'dileepthank', 'muchand', 'supportvery', 'hereremember', 'venugopal', 'mentionedtomorrow', 'latei', 'theregoodnight', 'leo', 'incomm', 'melody', 'gooddhanush', 'recdthirtyeight', 'topic', 'sdrybi', 'peteynoiåõm', 'timehope', 'alritehave', 'nit', 'js', 'amx', 'bu', 'wc', 'marsms', 'wwwbutelecom', 'xxxxxx', 'prizeawaiting', 'weirdy', 'brownies', 'cookies', 'hadnt', 'clocks', 'realised', 'wahay', 'smell', 'tobacco', 'skyving', 'wondarfull', 'toppoly', 'tune', 'mobstorequizppm', 'heavily', 'watched', 'prashanthettans', 'antibiotic', 'abdomen', 'gynae', 'infections', 'winawk', 'å£perweeksub', 'copies', 'prakesh', 'doublefaggot', 'vidnot', 'finishd', 'limit', 'boundaries', 'endless', 'monkey', 'asshole', 'messagethanks', 'pmsgrcvd', 'customercare', 'repent', '\\x89ûïharry', 'jide', 'visiting', 'wee', 'tallent', 'wasting', 'buffy', 'satisfy', 'qlynnbv', 'noooooooo', 'pract', 'flung', 'combine', 'sleepingand', 'auntie', 'huai', 'cultures', 'whenre', 'mcr', 'freaky', 'chik', 'filth', 'saristar', 'yt', 'holby', 'smaller', 'capacity', 'scold', 'zhong', 'qing', 'act', 'agree', 'needed', 'prebook', 'trackmarque', 'infovipclubu', 'pai', 'seh', 'fring', 'ore', 'owo', 'fro', 'hunt', 'ofcourse', 'shouting', 'gail', 'wrongtake', 'worryc', 'ltr', 'hunlove', 'yaxxx', 'squatting', 'sptv', 'jersey', 'devils', 'wings', 'incorrect', 'engin', 'smartcall', 'subscriptngbpwk', 'landlineonly', 'skateboarding', 'thrown', 'winds', 'bandages', 'whore', 'blastin', 'occur', 'rajnikant', 'oceand', 'whatsup', 'lately', 'deam', 'bcaz', 'stalking', 'wetherspoons', 'heehee', 'tensed', 'lobby', 'hidden', 'chgs', 'caveboy', 'consistently', 'practicum', 'links', 'ears', 'necesity', 'witout', 'hwd', 'colleg', 'watll', 'wth', 'functions', 'events', 'espell', 'cared', 'irritated', 'wrd', 'dearloving', 'wthout', 'takecare', 'rules', 'responsibility', 'bend', 'thia', 'inlude', 'previews', 'cast', 'aom', 'gbpmonth', 'boxm', 'lists', 'reboot', 'aldrine', 'rakhesh', 'rtm', 'herepls', 'callurgent', 'textin', 'webadres', 'geting', 'xam', 'hall', 'term', 'hesitation', 'intha', 'ponnungale', 'ipaditan', 'pure', 'hearted', 'hisher', 'enemies', 'smiley', 'crossing', 'shanilrakhesh', 'herethanksi', 'exchanged', 'uncut', 'diamond', 'stuffleaving', 'dino', 'predict', 'literally', 'refund', 'hunnywot', 'bedroomlove', 'drugdealer', 'meaningful', 'compromised', 'fps', 'lara', 'seeking', 'voted', 'ditto', 'donate', 'unicefs', 'asian', 'tsunami', 'disaster', 'fund', 'salesman', 'shrek', 'db', 'shant', 'dealing', 'stuffed', 'bleh', 'writhing', 'rahul', 'dengra', 'ax', 'luton', 'h', 'happiest', 'characters', 'differences', 'mathews', 'tait', 'edwards', 'anderson', 'speedchat', 'swap', 'chatter', 'rcd', 'court', 'grandmas', 'hungover', 'individual', 'gong', 'kaypoh', 'becausethey', 'wrg', 'comedycant', 'sources', 'unhappiness', 'lodging', 'mall', 'inperialmusic', 'listeningthe', 'weirdest', 'byåóleafcutter', 'johnåósounds', 'insects', 'molestedsomeone', 'plumbingremixed', 'evil', 'acid', 'waythis', 'uniquei', 'mylife', 'tick', 'ffffffffff', 'teams', 'xxxmobilemovieclub', 'httpwap', 'xxxmobilemovieclubcomnqjkgighjjgcbl', 'plate', 'leftovers', 'gota', 'shanghai', 'cya', 'pathaya', 'enketa', 'maraikara', 'macedonia', 'goalsteam', 'trywales', 'scotland', 'txtì¼', 'poboxoxwwq', 'velachery', 'conference', 'rr', 'destination', 'yesbut', 'dehydrated', 'vikkyim', 'prabhaim', 'sorydarealyfrm', 'sory', 'logoff', 'mmmmmmm', 'snuggles', 'contented', 'sigh', 'whispers', 'gumbys', 'cheese', 'simpsons', 'band', 'agreen', 'bblue', 'cred', 'rearrange', 'dormitory', 'astronomer', 'starer', 'election', 'lies', 'recount', 'motherinlaw', 'hitler', 'eleven', 'supose', 'babysit', 'therexx', 'spirit', 'brainy', 'fightng', 'dificult', 'dancin', 'responsibilities', 'lennon', 'hundreds', 'handsomes', 'beauties', 'aunties', 'toot', 'itll', 'massages', 'derp', 'abusers', 'painhope', 'permission', 'boggy', 'biatch', 'apes', 'swhrt', 'deyhope', 'daylove', 'misstake', 'stopsms', 'parkin', 'kent', 'vale', 'affair', 'knowhe', 'memorable', 'pocked', 'rencontre', 'mountains', 'fridge', 'overtime', 'nigpun', 'tiime', 'tears', 'steak', 'toyota', 'camry', 'olayiwolas', 'mileage', 'kits', 'landing', 'somethings', 'loneliness', 'pouts', 'stomps', 'mineall', 'wud', 'annoyin', 'mcflyall', 'ab', 'sara', 'jorgeshock', 'smithswitch', 'networking', 'defer', 'admission', 'farm', 'wall', 'calloptoutqf', 'tip', 'guesses', 'attach', 'costume', 'rejected', 'dent', 'prone', 'dao', 'xafter', 'cst', 'chg', 'downon', 'theacusations', 'itxt', 'iwana', 'wotu', 'thewend', 'haventcn', 'agesring', 'nething', 'satlove', 'jp', 'mofo', 'maangalyam', 'alaipayuthe', 'attention', 'unmits', 'goodno', 'problembut', 'pmeg', 'dying', 'turned', 'split', 'impressed', 'funs', 'jelly', 'dobby', 'textand', 'ceiling', 'internal', 'extract', 'knowwait', 'coulda', 'woodland', 'avenue', 'parish', 'magazine', 'attended', 'sonetimes', 'rough', 'kanji', 'fink', 'promised', 'carlie', 'callså£minmobsmore', 'lkpoboxhpfl', 'remet', 'dartboard', 'condition', 'doubles', 'trebles', 'drunkard', 'hesitate', 'weakness', 'notebook', 'coat', 'bloo', 'haiyoh', 'million', 'nor', 'kkgoodstudy', 'hdd', 'casing', 'hubbys', 'strings', 'å£ea', 'otbox', 'bognor', 'splendid', 'mapquest', 'dogwood', 'yesim', 'smsservices', 'yourinclusive', 'flyng', 'horo', 'aries', 'chuckin', 'trainners', 'carryin', 'bac', 'ujhhhhhhh', 'sandiago', 'parantella', 'spys', 'datoday', 'obey', 'woo', 'hoo', 'eggs', 'jam', 'hannaford', 'wheat', 'chex', 'onit', 'bitching', 'recorder', 'canname', 'capital', 'australia', 'mquiz', 'sday', 'joinedso', 'sfrom', 'manual', 'processits', 'reset', 'troubleshooting', 'anand', 'eviction', 'spiral', 'michael', 'riddance', 'saeed', 'millers', 'wondar', 'flim', 'armands', 'moneyi', 'assumed', 'signin', 'beside', 'romcapspam', 'presence', 'outgoing', 'multis', 'tortilla', 'yummmm', 'mw', 'filled', 'tuth', 'shitin', 'defo', 'hardest', 'millions', 'lekdog', 'gray', 'remembr', 'listn', 'watevr', 'whileamp', 'noisy', 'skye', 'chatim', 'utxt', 'dub', 'je', 'calis', 'complexities', 'freely', 'taxes', 'outrageous', 'harri', 'kgive', 'maturity', 'arts', 'stripes', 'skirt', 'treasure', 'outsider', 'lim', 'photoshop', 'juswoke', 'boatin', 'docks', 'spinout', 'voucherstext', 'nowsavamobmember', 'steamboat', 'thkin', 'becomes', 'wwwflirtpartyus', 'replys', 'blanket', 'babyhope', 'urfeeling', 'bettersn', 'probthat', 'overdose', 'lovejen', 'confirmdeny', 'sian', 'apology', 'pre', 'sacked', 'oxygen', 'resort', 'roller', 'yeovil', 'motor', 'max', 'weaknesses', 'exposes', 'pulls', 'wicked', 'squeeeeeze', 'frndshp', 'luvd', 'debating', 'jjc', 'tendencies', 'walsall', 'tue', 'terry', 'brilliantthingi', 'answr', 'onum', 'hypertension', 'gravel', 'spoil', 'correctly', 'ability', 'rajini', 'amk', 'converted', 'vague', 'accounting', 'delayed', 'housing', 'agency', 'renting', 'ouch', 'justbeen', 'overa', 'brains', 'mush', 'taylors', 'snap', 'quizclub', 'sprwm', 'exorcism', 'emily', 'sirsalam', 'alaikkumpride', 'shopwe', 'qatarrakhesh', 'indianpls', 'numberrespectful', 'fan', 'steal', 'eightish', 'carpark', 'peteis', 'leannewhat', 'unconsciously', 'unhappy', 'barring', 'sudden', 'influx', 'hellogorgeous', 'nitw', 'texd', 'hopeu', 'ward', 'cin', 'jaz', 'smash', 'religiously', 'jabo', 'posh', 'chaps', 'trial', 'prods', 'champneys', 'dob', 'motivating', 'sharing', 'optin', 'bbc', 'charts', 'mys', 'infra', 'view', 'gays', 'avoid', 'youdearwith', 'loverakhesh', 'nri', 'themobyo', 'yohere', 'stagwood', 'winterstone', 'victors', 'hmmmkbut', 'administrator', 'computers', 'kaila', 'skilgmetscswinawkageå£perwksub', 'missunderstding', 'orh', 'waheed', 'fathima', 'linear', 'algebra', 'promotion', 'remb', 'sth', 'specs', 'moneyas', 'youmoney', 'thinghow', 'pants', 'macs', 'prepared', 'pdatenow', 'calloptoutyhl', 'upgrdcentre', 'videosound', 'videosounds', 'logosmusicnews', 'jamstercouk', 'homelove', 'significance', 'pressies', 'lark', 'buttons', 'minded', 'aå£', 'minapn', 'lsbb', 'guild', 'bleak', 'breaking', 'cstore', 'explicit', 'secs', 'gsex', 'wcn', 'twins', 'nte', 'lasagna', 'topped', 'httpwwwbubbletextcom', 'tgxxrz', 'playi', 'clas', 'nightnight', 'figuring', 'agents', 'experiment', 'atleast', 'shakespeare', 'ppmpoboxbhambxe', 'gosh', 'spose', 'payments', 'fedex', 'programs', 'practising', 'curtsey', 'specify', 'domain', 'nusstu', 'ucall', 'wrki', 'dabooks', 'bcum', 'smoothly', 'challenging', 'sno', 'eggpotato', 'ratio', 'snickering', 'chords', 'kicks', 'gobi', 'machines', 'lingerie', 'wwwbridalpetticoatdreamscouk', 'weddingfriend', 'studyn', 'rushing', 'heads', 'jade', 'paul', 'barmed', 'startedindia', 'reache', 'regret', 'nhs', 'mistakeu', 'bornplease', 'terminatedwe', 'inconvenience', 'svc', 'forfeit', 'wwwtelediscountcouk', 'ukp', 'depression', 'occurs', 'tonght', 'bootydelious', 'wwwsmsacubootydelious', 'spreadsheet', 'determine', 'entire', 'powerful', 'weapon', 'textcomp', 'follows', 'subsequent', 'chargedpmsg', 'jetton', 'shining', 'geelater', 'aust', 'bk', 'paypal', 'voila', 'pockets', 'september', 'jot', 'slippery', 'smokin', 'rebooting', 'marvel', 'ultimate', 'spiderman', 'spider', 'ball', 'beth', 'charlie', 'sef', 'anjie', 'wwwmusictrivianet', 'nowtcs', 'winnersclub', 'digi', 'coupla', 'studies', 'anyones', 'planettalkinstantcom', 'guessed', 'sayy', 'ilol', 'personally', 'wuldnt', 'narcotics', 'toughest', 'wendy', 'grooved', 'corvettes', 'onluy', 'matters', 'offcampus', 'didntgive', 'bellearlier', 'swan', 'uploaded', 'mumhas', 'beendropping', 'theplace', 'adress', 'snowboarding', 'goa', 'seekers', 'messagestext', 'nowuse', 'webmobile', 'txtcom', 'lawu', 'txtx', 'gmw', 'connected', 'crowd', 'mostly', 'typelyk', 'footblcrckt', 'revealing', 'soso', 'smsd', 'ownyouve', 'stressed', 'busetop', 'pack', 'storelike', 'cereals', 'gari', 'ger', 'toking', 'syd', 'lehhaha', 'sumthinxx', 'hidid', 'waheeda', 'showers', 'possessiveness', 'poured', 'golden', 'emigrated', 'hopeful', 'hanks', 'lotsly', 'recycling', 'earning']\n"
          ],
          "name": "stdout"
        }
      ]
    },
    {
      "cell_type": "code",
      "metadata": {
        "id": "ZLFk3ziNcbbp",
        "colab_type": "code",
        "colab": {}
      },
      "source": [
        "#For each word find inspam probability and in-ham probability\n",
        "word = '';\n",
        "inSpamCount = 0;\n",
        "inHamCount = 0;\n",
        "columns = ['inSpamProbability','inHamProbability']\n",
        "probability_Table = pd.DataFrame(index=row_Names, columns=columns)\n",
        "for word in row_Names:\n",
        "  inSpamCount = 0;\n",
        "  inHamCount = 0;\n",
        "  for i in spam_Subset['sms']:\n",
        "    if(i.find(word)==0):\n",
        "      inSpamCount = inSpamCount+1;\n",
        "     \n",
        "      \n",
        "  for i in ham_Subset['sms']:\n",
        "    if(i.find(word)==0):\n",
        "       inHamCount = inHamCount+1;\n",
        "      \n",
        "      \n",
        "  probability_Table.at[word, 'inSpamProbability'] = inSpamCount/len(spam_Subset);\n",
        "  probability_Table.at[word,'inHamProbability'] = inHamCount/len(ham_Subset);\n"
      ],
      "execution_count": 0,
      "outputs": []
    },
    {
      "cell_type": "code",
      "metadata": {
        "id": "flb2VDn7cgsF",
        "colab_type": "code",
        "colab": {}
      },
      "source": [
        "probability_Table.sort_values(\"inSpamProbability\", axis = 0, ascending = False, \n",
        "                 inplace = True, na_position ='first') "
      ],
      "execution_count": 0,
      "outputs": []
    },
    {
      "cell_type": "code",
      "metadata": {
        "id": "JfAqU6YrcmGI",
        "colab_type": "code",
        "outputId": "08a547c3-56d6-4efd-ccc9-517715a2bd6f",
        "colab": {
          "base_uri": "https://localhost:8080/",
          "height": 419
        }
      },
      "source": [
        "probability_Table"
      ],
      "execution_count": 0,
      "outputs": [
        {
          "output_type": "execute_result",
          "data": {
            "text/html": [
              "<div>\n",
              "<style scoped>\n",
              "    .dataframe tbody tr th:only-of-type {\n",
              "        vertical-align: middle;\n",
              "    }\n",
              "\n",
              "    .dataframe tbody tr th {\n",
              "        vertical-align: top;\n",
              "    }\n",
              "\n",
              "    .dataframe thead th {\n",
              "        text-align: right;\n",
              "    }\n",
              "</style>\n",
              "<table border=\"1\" class=\"dataframe\">\n",
              "  <thead>\n",
              "    <tr style=\"text-align: right;\">\n",
              "      <th></th>\n",
              "      <th>inSpamProbability</th>\n",
              "      <th>inHamProbability</th>\n",
              "    </tr>\n",
              "  </thead>\n",
              "  <tbody>\n",
              "    <tr>\n",
              "      <th>u</th>\n",
              "      <td>0.121212</td>\n",
              "      <td>0.0192882</td>\n",
              "    </tr>\n",
              "    <tr>\n",
              "      <th>f</th>\n",
              "      <td>0.1</td>\n",
              "      <td>0.013318</td>\n",
              "    </tr>\n",
              "    <tr>\n",
              "      <th>ur</th>\n",
              "      <td>0.0893939</td>\n",
              "      <td>0.00137773</td>\n",
              "    </tr>\n",
              "    <tr>\n",
              "      <th>y</th>\n",
              "      <td>0.0863636</td>\n",
              "      <td>0.0684271</td>\n",
              "    </tr>\n",
              "    <tr>\n",
              "      <th>you</th>\n",
              "      <td>0.0848485</td>\n",
              "      <td>0.0220436</td>\n",
              "    </tr>\n",
              "    <tr>\n",
              "      <th>...</th>\n",
              "      <td>...</td>\n",
              "      <td>...</td>\n",
              "    </tr>\n",
              "    <tr>\n",
              "      <th>sura</th>\n",
              "      <td>0</td>\n",
              "      <td>0</td>\n",
              "    </tr>\n",
              "    <tr>\n",
              "      <th>kz</th>\n",
              "      <td>0</td>\n",
              "      <td>0</td>\n",
              "    </tr>\n",
              "    <tr>\n",
              "      <th>wit</th>\n",
              "      <td>0</td>\n",
              "      <td>0.000229621</td>\n",
              "    </tr>\n",
              "    <tr>\n",
              "      <th>skyped</th>\n",
              "      <td>0</td>\n",
              "      <td>0</td>\n",
              "    </tr>\n",
              "    <tr>\n",
              "      <th>earning</th>\n",
              "      <td>0</td>\n",
              "      <td>0</td>\n",
              "    </tr>\n",
              "  </tbody>\n",
              "</table>\n",
              "<p>8145 rows × 2 columns</p>\n",
              "</div>"
            ],
            "text/plain": [
              "        inSpamProbability inHamProbability\n",
              "u                0.121212        0.0192882\n",
              "f                     0.1         0.013318\n",
              "ur              0.0893939       0.00137773\n",
              "y               0.0863636        0.0684271\n",
              "you             0.0848485        0.0220436\n",
              "...                   ...              ...\n",
              "sura                    0                0\n",
              "kz                      0                0\n",
              "wit                     0      0.000229621\n",
              "skyped                  0                0\n",
              "earning                 0                0\n",
              "\n",
              "[8145 rows x 2 columns]"
            ]
          },
          "metadata": {
            "tags": []
          },
          "execution_count": 50
        }
      ]
    },
    {
      "cell_type": "code",
      "metadata": {
        "id": "ZT6WuoUgcnua",
        "colab_type": "code",
        "colab": {}
      },
      "source": [
        "#drop rows wherever spam or ham is zero probability\n",
        "probability_Table = probability_Table[(probability_Table[['inSpamProbability','inHamProbability']] != 0).all(axis=1)]"
      ],
      "execution_count": 0,
      "outputs": []
    },
    {
      "cell_type": "code",
      "metadata": {
        "id": "1Fcx_JaDcqPd",
        "colab_type": "code",
        "colab": {}
      },
      "source": [
        "#Question_1:\n",
        "def check_message(test_msg):\n",
        " test_msg = test_msg.split()\n",
        " word=\"\"\n",
        " spam_prob=1\n",
        " ham_prob=1\n",
        " for word in test_msg:\n",
        "  for words in probability_Table.index:\n",
        "   if(word == words):\n",
        "    spam_prob = spam_prob * probability_Table['inSpamProbability'][word]\n",
        "    ham_prob = ham_prob * probability_Table['inHamProbability'][word]\n",
        "\n",
        " if(spam_prob >= ham_prob):\n",
        "   return \"spam\"\n",
        " else:\n",
        "   return \"ham\"\n",
        "\n",
        "\n"
      ],
      "execution_count": 0,
      "outputs": []
    },
    {
      "cell_type": "code",
      "metadata": {
        "id": "JWVwvdItdUxp",
        "colab_type": "code",
        "outputId": "a7c5c6e2-d743-4f1a-a248-5adf20bd13f8",
        "colab": {
          "base_uri": "https://localhost:8080/",
          "height": 119
        }
      },
      "source": [
        "test_label = []\n",
        "for test_inp in test_Subset['sms']:\n",
        " out_label = check_message(test_inp)\n",
        " test_label.append(out_label)\n",
        "test_Subset['prediction'] = test_label"
      ],
      "execution_count": 0,
      "outputs": [
        {
          "output_type": "stream",
          "text": [
            "/usr/local/lib/python3.6/dist-packages/ipykernel_launcher.py:5: SettingWithCopyWarning: \n",
            "A value is trying to be set on a copy of a slice from a DataFrame.\n",
            "Try using .loc[row_indexer,col_indexer] = value instead\n",
            "\n",
            "See the caveats in the documentation: http://pandas.pydata.org/pandas-docs/stable/user_guide/indexing.html#returning-a-view-versus-a-copy\n",
            "  \"\"\"\n"
          ],
          "name": "stderr"
        }
      ]
    },
    {
      "cell_type": "code",
      "metadata": {
        "id": "u1JER8NrdYaV",
        "colab_type": "code",
        "outputId": "89782859-895f-496d-a616-292f887c3ea0",
        "colab": {
          "base_uri": "https://localhost:8080/",
          "height": 419
        }
      },
      "source": [
        "test_Subset"
      ],
      "execution_count": 0,
      "outputs": [
        {
          "output_type": "execute_result",
          "data": {
            "text/html": [
              "<div>\n",
              "<style scoped>\n",
              "    .dataframe tbody tr th:only-of-type {\n",
              "        vertical-align: middle;\n",
              "    }\n",
              "\n",
              "    .dataframe tbody tr th {\n",
              "        vertical-align: top;\n",
              "    }\n",
              "\n",
              "    .dataframe thead th {\n",
              "        text-align: right;\n",
              "    }\n",
              "</style>\n",
              "<table border=\"1\" class=\"dataframe\">\n",
              "  <thead>\n",
              "    <tr style=\"text-align: right;\">\n",
              "      <th></th>\n",
              "      <th>label</th>\n",
              "      <th>sms</th>\n",
              "      <th>predicted_label</th>\n",
              "      <th>prediction</th>\n",
              "    </tr>\n",
              "  </thead>\n",
              "  <tbody>\n",
              "    <tr>\n",
              "      <th>5213</th>\n",
              "      <td>ham</td>\n",
              "      <td>pa but not selected</td>\n",
              "      <td>ham</td>\n",
              "      <td>ham</td>\n",
              "    </tr>\n",
              "    <tr>\n",
              "      <th>3701</th>\n",
              "      <td>ham</td>\n",
              "      <td>hey loverboy i love you  i had to tell  i look...</td>\n",
              "      <td>ham</td>\n",
              "      <td>ham</td>\n",
              "    </tr>\n",
              "    <tr>\n",
              "      <th>5282</th>\n",
              "      <td>ham</td>\n",
              "      <td>i have gone into get info bt dont know to do</td>\n",
              "      <td>spam</td>\n",
              "      <td>spam</td>\n",
              "    </tr>\n",
              "    <tr>\n",
              "      <th>4766</th>\n",
              "      <td>spam</td>\n",
              "      <td>your unique user id  for removal send stop to ...</td>\n",
              "      <td>spam</td>\n",
              "      <td>spam</td>\n",
              "    </tr>\n",
              "    <tr>\n",
              "      <th>4108</th>\n",
              "      <td>ham</td>\n",
              "      <td>i want to lick your pussy now</td>\n",
              "      <td>spam</td>\n",
              "      <td>spam</td>\n",
              "    </tr>\n",
              "    <tr>\n",
              "      <th>...</th>\n",
              "      <td>...</td>\n",
              "      <td>...</td>\n",
              "      <td>...</td>\n",
              "      <td>...</td>\n",
              "    </tr>\n",
              "    <tr>\n",
              "      <th>3402</th>\n",
              "      <td>ham</td>\n",
              "      <td>good night my dear sleepwellamptake care</td>\n",
              "      <td>spam</td>\n",
              "      <td>spam</td>\n",
              "    </tr>\n",
              "    <tr>\n",
              "      <th>1217</th>\n",
              "      <td>ham</td>\n",
              "      <td>damn can you make it tonight or do you want to...</td>\n",
              "      <td>spam</td>\n",
              "      <td>spam</td>\n",
              "    </tr>\n",
              "    <tr>\n",
              "      <th>2060</th>\n",
              "      <td>ham</td>\n",
              "      <td>i did one slice and one breadstick lol</td>\n",
              "      <td>ham</td>\n",
              "      <td>ham</td>\n",
              "    </tr>\n",
              "    <tr>\n",
              "      <th>5377</th>\n",
              "      <td>spam</td>\n",
              "      <td>current leading bid  to pause this auction sen...</td>\n",
              "      <td>spam</td>\n",
              "      <td>spam</td>\n",
              "    </tr>\n",
              "    <tr>\n",
              "      <th>2905</th>\n",
              "      <td>ham</td>\n",
              "      <td>helloooo wake up sweet morning welcomes you en...</td>\n",
              "      <td>spam</td>\n",
              "      <td>spam</td>\n",
              "    </tr>\n",
              "  </tbody>\n",
              "</table>\n",
              "<p>557 rows × 4 columns</p>\n",
              "</div>"
            ],
            "text/plain": [
              "     label  ... prediction\n",
              "5213   ham  ...        ham\n",
              "3701   ham  ...        ham\n",
              "5282   ham  ...       spam\n",
              "4766  spam  ...       spam\n",
              "4108   ham  ...       spam\n",
              "...    ...  ...        ...\n",
              "3402   ham  ...       spam\n",
              "1217   ham  ...       spam\n",
              "2060   ham  ...        ham\n",
              "5377  spam  ...       spam\n",
              "2905   ham  ...       spam\n",
              "\n",
              "[557 rows x 4 columns]"
            ]
          },
          "metadata": {
            "tags": []
          },
          "execution_count": 63
        }
      ]
    },
    {
      "cell_type": "code",
      "metadata": {
        "id": "oilBYhk4evun",
        "colab_type": "code",
        "outputId": "a06c5148-4606-4b27-d308-539120d644c5",
        "colab": {
          "base_uri": "https://localhost:8080/",
          "height": 51
        }
      },
      "source": [
        "L = len(test_Subset)\n",
        "test_spam = len(test_Subset.query('label == \"spam\"'))\n",
        "test_spam_data = test_Subset.query('label == \"spam\"')\n",
        "test_ham = len(test_Subset.query('label == \"ham\"'))\n",
        "test_ham_data = test_Subset.query('label == \"ham\"')\n",
        "\n",
        "print(test_spam)\n",
        "print(test_ham)\n"
      ],
      "execution_count": 0,
      "outputs": [
        {
          "output_type": "stream",
          "text": [
            "87\n",
            "470\n"
          ],
          "name": "stdout"
        }
      ]
    },
    {
      "cell_type": "code",
      "metadata": {
        "id": "enXBH9yMe8va",
        "colab_type": "code",
        "outputId": "85471437-e615-4234-a462-b3d25ded0410",
        "colab": {
          "base_uri": "https://localhost:8080/",
          "height": 34
        }
      },
      "source": [
        "#Question_2:\n",
        "#True Negative Rate\n",
        "ptn = len(test_spam_data.query('prediction == \"spam\"'))\n",
        "#TN Rate\n",
        "TN = ptn / test_spam\n",
        "print(TN)"
      ],
      "execution_count": 0,
      "outputs": [
        {
          "output_type": "stream",
          "text": [
            "0.9310344827586207\n"
          ],
          "name": "stdout"
        }
      ]
    },
    {
      "cell_type": "code",
      "metadata": {
        "id": "boIKIDJBfIOQ",
        "colab_type": "code",
        "outputId": "e8c54454-1947-43ed-e81a-114fa9199407",
        "colab": {
          "base_uri": "https://localhost:8080/",
          "height": 34
        }
      },
      "source": [
        "#True Positive Rate\n",
        "ptp = len(test_ham_data.query('prediction == \"ham\"'))\n",
        "\n",
        "#TP Rate\n",
        "TP = ptp / test_ham\n",
        "print(TP)"
      ],
      "execution_count": 0,
      "outputs": [
        {
          "output_type": "stream",
          "text": [
            "0.451063829787234\n"
          ],
          "name": "stdout"
        }
      ]
    },
    {
      "cell_type": "code",
      "metadata": {
        "id": "iLd2IYAmfN80",
        "colab_type": "code",
        "outputId": "24e6929b-cf82-4df7-e43d-e0293d8fdf4c",
        "colab": {
          "base_uri": "https://localhost:8080/",
          "height": 34
        }
      },
      "source": [
        "#False Negative Rate\n",
        "pfn = len(test_spam_data.query('prediction == \"ham\"'))\n",
        "\n",
        "#FN Rate\n",
        "FN = pfn / test_spam\n",
        "print(FN)"
      ],
      "execution_count": 0,
      "outputs": [
        {
          "output_type": "stream",
          "text": [
            "0.06896551724137931\n"
          ],
          "name": "stdout"
        }
      ]
    },
    {
      "cell_type": "code",
      "metadata": {
        "id": "4wnnjNwsfSmv",
        "colab_type": "code",
        "outputId": "ea5f68ec-5cf7-459f-9042-bac863678afb",
        "colab": {
          "base_uri": "https://localhost:8080/",
          "height": 34
        }
      },
      "source": [
        "#False Positive Rate\n",
        "pfp = len(test_ham_data.query('prediction == \"spam\"'))\n",
        "\n",
        "#FP Rate\n",
        "FP = pfp / test_ham\n",
        "print(FP)"
      ],
      "execution_count": 0,
      "outputs": [
        {
          "output_type": "stream",
          "text": [
            "0.548936170212766\n"
          ],
          "name": "stdout"
        }
      ]
    },
    {
      "cell_type": "code",
      "metadata": {
        "id": "Dq5oEvSofVkk",
        "colab_type": "code",
        "outputId": "62cbb985-690e-42a5-eb0a-71297ed099f9",
        "colab": {
          "base_uri": "https://localhost:8080/",
          "height": 34
        }
      },
      "source": [
        "Accuracy = (TP + TN) / (TP + TN + FP + FN)\n",
        "print(Accuracy)"
      ],
      "execution_count": 0,
      "outputs": [
        {
          "output_type": "stream",
          "text": [
            "0.6910491562729274\n"
          ],
          "name": "stdout"
        }
      ]
    },
    {
      "cell_type": "code",
      "metadata": {
        "id": "SgSomicDfZcQ",
        "colab_type": "code",
        "outputId": "fed0d364-c8eb-4836-a0cd-4edc6ac6af3b",
        "colab": {
          "base_uri": "https://localhost:8080/",
          "height": 34
        }
      },
      "source": [
        "Error_rate = (FP + FN) / (TP + TN + FP + FN)\n",
        "print(Error_rate)"
      ],
      "execution_count": 0,
      "outputs": [
        {
          "output_type": "stream",
          "text": [
            "0.3089508437270727\n"
          ],
          "name": "stdout"
        }
      ]
    },
    {
      "cell_type": "code",
      "metadata": {
        "id": "jGlzi4Ovfe9B",
        "colab_type": "code",
        "colab": {}
      },
      "source": [
        ""
      ],
      "execution_count": 0,
      "outputs": []
    }
  ]
}